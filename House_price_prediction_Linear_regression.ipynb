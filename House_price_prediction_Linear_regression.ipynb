{
 "cells": [
  {
   "cell_type": "code",
   "execution_count": 171,
   "metadata": {},
   "outputs": [],
   "source": [
    "# Import Pandas and Numpy\n",
    "import numpy as np\n",
    "import pandas as pd\n",
    "\n",
    "# Scikit-learn \n",
    "from sklearn.datasets import load_boston\n",
    "from sklearn import linear_model\n",
    "from sklearn.tree import DecisionTreeRegressor, export_graphviz\n",
    "from sklearn import tree\n",
    "from sklearn.ensemble import RandomForestRegressor\n",
    "from sklearn.model_selection import GridSearchCV\n",
    "from sklearn.model_selection import train_test_split\n",
    "from sklearn import metrics\n",
    "\n",
    "# Vizualization\n",
    "import matplotlib.pyplot as plt\n",
    "import seaborn as sns\n",
    "%matplotlib inline\n",
    "from IPython.display import SVG\n",
    "from graphviz import Source\n",
    "from IPython.display import display"
   ]
  },
  {
   "cell_type": "code",
   "execution_count": 172,
   "metadata": {},
   "outputs": [],
   "source": [
    "# Load Boston dataset from Sklearn\n",
    "boston = load_boston()"
   ]
  },
  {
   "cell_type": "code",
   "execution_count": 173,
   "metadata": {},
   "outputs": [
    {
     "name": "stdout",
     "output_type": "stream",
     "text": [
      "dict_keys(['data', 'target', 'feature_names', 'DESCR', 'filename'])\n"
     ]
    }
   ],
   "source": [
    "# This dataset is in a form of dictionary so we can check its keys\n",
    "print(boston.keys())"
   ]
  },
  {
   "cell_type": "code",
   "execution_count": 174,
   "metadata": {},
   "outputs": [
    {
     "name": "stdout",
     "output_type": "stream",
     "text": [
      "(506, 13)\n"
     ]
    }
   ],
   "source": [
    "print(boston.data.shape)"
   ]
  },
  {
   "cell_type": "markdown",
   "metadata": {},
   "source": [
    "This dataset consists of 506 rows and 13 columns."
   ]
  },
  {
   "cell_type": "code",
   "execution_count": 175,
   "metadata": {},
   "outputs": [
    {
     "name": "stdout",
     "output_type": "stream",
     "text": [
      "['CRIM' 'ZN' 'INDUS' 'CHAS' 'NOX' 'RM' 'AGE' 'DIS' 'RAD' 'TAX' 'PTRATIO'\n",
      " 'B' 'LSTAT']\n"
     ]
    }
   ],
   "source": [
    "print(boston.feature_names)"
   ]
  },
  {
   "cell_type": "markdown",
   "metadata": {},
   "source": [
    "Below we can check what the column names mean."
   ]
  },
  {
   "cell_type": "code",
   "execution_count": 176,
   "metadata": {},
   "outputs": [
    {
     "name": "stdout",
     "output_type": "stream",
     "text": [
      ".. _boston_dataset:\n",
      "\n",
      "Boston house prices dataset\n",
      "---------------------------\n",
      "\n",
      "**Data Set Characteristics:**  \n",
      "\n",
      "    :Number of Instances: 506 \n",
      "\n",
      "    :Number of Attributes: 13 numeric/categorical predictive. Median Value (attribute 14) is usually the target.\n",
      "\n",
      "    :Attribute Information (in order):\n",
      "        - CRIM     per capita crime rate by town\n",
      "        - ZN       proportion of residential land zoned for lots over 25,000 sq.ft.\n",
      "        - INDUS    proportion of non-retail business acres per town\n",
      "        - CHAS     Charles River dummy variable (= 1 if tract bounds river; 0 otherwise)\n",
      "        - NOX      nitric oxides concentration (parts per 10 million)\n",
      "        - RM       average number of rooms per dwelling\n",
      "        - AGE      proportion of owner-occupied units built prior to 1940\n",
      "        - DIS      weighted distances to five Boston employment centres\n",
      "        - RAD      index of accessibility to radial highways\n",
      "        - TAX      full-value property-tax rate per $10,000\n",
      "        - PTRATIO  pupil-teacher ratio by town\n",
      "        - B        1000(Bk - 0.63)^2 where Bk is the proportion of blacks by town\n",
      "        - LSTAT    % lower status of the population\n",
      "        - MEDV     Median value of owner-occupied homes in $1000's\n",
      "\n",
      "    :Missing Attribute Values: None\n",
      "\n",
      "    :Creator: Harrison, D. and Rubinfeld, D.L.\n",
      "\n",
      "This is a copy of UCI ML housing dataset.\n",
      "https://archive.ics.uci.edu/ml/machine-learning-databases/housing/\n",
      "\n",
      "\n",
      "This dataset was taken from the StatLib library which is maintained at Carnegie Mellon University.\n",
      "\n",
      "The Boston house-price data of Harrison, D. and Rubinfeld, D.L. 'Hedonic\n",
      "prices and the demand for clean air', J. Environ. Economics & Management,\n",
      "vol.5, 81-102, 1978.   Used in Belsley, Kuh & Welsch, 'Regression diagnostics\n",
      "...', Wiley, 1980.   N.B. Various transformations are used in the table on\n",
      "pages 244-261 of the latter.\n",
      "\n",
      "The Boston house-price data has been used in many machine learning papers that address regression\n",
      "problems.   \n",
      "     \n",
      ".. topic:: References\n",
      "\n",
      "   - Belsley, Kuh & Welsch, 'Regression diagnostics: Identifying Influential Data and Sources of Collinearity', Wiley, 1980. 244-261.\n",
      "   - Quinlan,R. (1993). Combining Instance-Based and Model-Based Learning. In Proceedings on the Tenth International Conference of Machine Learning, 236-243, University of Massachusetts, Amherst. Morgan Kaufmann.\n",
      "\n"
     ]
    }
   ],
   "source": [
    "print(boston.DESCR)"
   ]
  },
  {
   "cell_type": "code",
   "execution_count": 177,
   "metadata": {},
   "outputs": [],
   "source": [
    "# Define the data/predictors as the pre-set feature names  \n",
    "X = pd.DataFrame(boston.data, columns=boston.feature_names)\n",
    "\n",
    "# Put the target (housing value -- MEDV) in another DataFrame\n",
    "y = pd.DataFrame(boston.target, columns=[\"MEDV\"])"
   ]
  },
  {
   "cell_type": "code",
   "execution_count": 178,
   "metadata": {},
   "outputs": [
    {
     "data": {
      "text/html": [
       "<div>\n",
       "<style scoped>\n",
       "    .dataframe tbody tr th:only-of-type {\n",
       "        vertical-align: middle;\n",
       "    }\n",
       "\n",
       "    .dataframe tbody tr th {\n",
       "        vertical-align: top;\n",
       "    }\n",
       "\n",
       "    .dataframe thead th {\n",
       "        text-align: right;\n",
       "    }\n",
       "</style>\n",
       "<table border=\"1\" class=\"dataframe\">\n",
       "  <thead>\n",
       "    <tr style=\"text-align: right;\">\n",
       "      <th></th>\n",
       "      <th>CRIM</th>\n",
       "      <th>ZN</th>\n",
       "      <th>INDUS</th>\n",
       "      <th>CHAS</th>\n",
       "      <th>NOX</th>\n",
       "      <th>RM</th>\n",
       "      <th>AGE</th>\n",
       "      <th>DIS</th>\n",
       "      <th>RAD</th>\n",
       "      <th>TAX</th>\n",
       "      <th>PTRATIO</th>\n",
       "      <th>B</th>\n",
       "      <th>LSTAT</th>\n",
       "    </tr>\n",
       "  </thead>\n",
       "  <tbody>\n",
       "    <tr>\n",
       "      <th>0</th>\n",
       "      <td>0.00632</td>\n",
       "      <td>18.0</td>\n",
       "      <td>2.31</td>\n",
       "      <td>0.0</td>\n",
       "      <td>0.538</td>\n",
       "      <td>6.575</td>\n",
       "      <td>65.2</td>\n",
       "      <td>4.0900</td>\n",
       "      <td>1.0</td>\n",
       "      <td>296.0</td>\n",
       "      <td>15.3</td>\n",
       "      <td>396.90</td>\n",
       "      <td>4.98</td>\n",
       "    </tr>\n",
       "    <tr>\n",
       "      <th>1</th>\n",
       "      <td>0.02731</td>\n",
       "      <td>0.0</td>\n",
       "      <td>7.07</td>\n",
       "      <td>0.0</td>\n",
       "      <td>0.469</td>\n",
       "      <td>6.421</td>\n",
       "      <td>78.9</td>\n",
       "      <td>4.9671</td>\n",
       "      <td>2.0</td>\n",
       "      <td>242.0</td>\n",
       "      <td>17.8</td>\n",
       "      <td>396.90</td>\n",
       "      <td>9.14</td>\n",
       "    </tr>\n",
       "    <tr>\n",
       "      <th>2</th>\n",
       "      <td>0.02729</td>\n",
       "      <td>0.0</td>\n",
       "      <td>7.07</td>\n",
       "      <td>0.0</td>\n",
       "      <td>0.469</td>\n",
       "      <td>7.185</td>\n",
       "      <td>61.1</td>\n",
       "      <td>4.9671</td>\n",
       "      <td>2.0</td>\n",
       "      <td>242.0</td>\n",
       "      <td>17.8</td>\n",
       "      <td>392.83</td>\n",
       "      <td>4.03</td>\n",
       "    </tr>\n",
       "    <tr>\n",
       "      <th>3</th>\n",
       "      <td>0.03237</td>\n",
       "      <td>0.0</td>\n",
       "      <td>2.18</td>\n",
       "      <td>0.0</td>\n",
       "      <td>0.458</td>\n",
       "      <td>6.998</td>\n",
       "      <td>45.8</td>\n",
       "      <td>6.0622</td>\n",
       "      <td>3.0</td>\n",
       "      <td>222.0</td>\n",
       "      <td>18.7</td>\n",
       "      <td>394.63</td>\n",
       "      <td>2.94</td>\n",
       "    </tr>\n",
       "    <tr>\n",
       "      <th>4</th>\n",
       "      <td>0.06905</td>\n",
       "      <td>0.0</td>\n",
       "      <td>2.18</td>\n",
       "      <td>0.0</td>\n",
       "      <td>0.458</td>\n",
       "      <td>7.147</td>\n",
       "      <td>54.2</td>\n",
       "      <td>6.0622</td>\n",
       "      <td>3.0</td>\n",
       "      <td>222.0</td>\n",
       "      <td>18.7</td>\n",
       "      <td>396.90</td>\n",
       "      <td>5.33</td>\n",
       "    </tr>\n",
       "  </tbody>\n",
       "</table>\n",
       "</div>"
      ],
      "text/plain": [
       "      CRIM    ZN  INDUS  CHAS    NOX     RM   AGE     DIS  RAD    TAX  \\\n",
       "0  0.00632  18.0   2.31   0.0  0.538  6.575  65.2  4.0900  1.0  296.0   \n",
       "1  0.02731   0.0   7.07   0.0  0.469  6.421  78.9  4.9671  2.0  242.0   \n",
       "2  0.02729   0.0   7.07   0.0  0.469  7.185  61.1  4.9671  2.0  242.0   \n",
       "3  0.03237   0.0   2.18   0.0  0.458  6.998  45.8  6.0622  3.0  222.0   \n",
       "4  0.06905   0.0   2.18   0.0  0.458  7.147  54.2  6.0622  3.0  222.0   \n",
       "\n",
       "   PTRATIO       B  LSTAT  \n",
       "0     15.3  396.90   4.98  \n",
       "1     17.8  396.90   9.14  \n",
       "2     17.8  392.83   4.03  \n",
       "3     18.7  394.63   2.94  \n",
       "4     18.7  396.90   5.33  "
      ]
     },
     "execution_count": 178,
     "metadata": {},
     "output_type": "execute_result"
    }
   ],
   "source": [
    "# Quick inspection of Dataframes\n",
    "X.head()"
   ]
  },
  {
   "cell_type": "code",
   "execution_count": 179,
   "metadata": {},
   "outputs": [
    {
     "name": "stdout",
     "output_type": "stream",
     "text": [
      "<class 'pandas.core.frame.DataFrame'>\n",
      "RangeIndex: 506 entries, 0 to 505\n",
      "Data columns (total 13 columns):\n",
      "CRIM       506 non-null float64\n",
      "ZN         506 non-null float64\n",
      "INDUS      506 non-null float64\n",
      "CHAS       506 non-null float64\n",
      "NOX        506 non-null float64\n",
      "RM         506 non-null float64\n",
      "AGE        506 non-null float64\n",
      "DIS        506 non-null float64\n",
      "RAD        506 non-null float64\n",
      "TAX        506 non-null float64\n",
      "PTRATIO    506 non-null float64\n",
      "B          506 non-null float64\n",
      "LSTAT      506 non-null float64\n",
      "dtypes: float64(13)\n",
      "memory usage: 51.5 KB\n"
     ]
    }
   ],
   "source": [
    "X.info()"
   ]
  },
  {
   "cell_type": "code",
   "execution_count": 180,
   "metadata": {},
   "outputs": [
    {
     "data": {
      "text/html": [
       "<div>\n",
       "<style scoped>\n",
       "    .dataframe tbody tr th:only-of-type {\n",
       "        vertical-align: middle;\n",
       "    }\n",
       "\n",
       "    .dataframe tbody tr th {\n",
       "        vertical-align: top;\n",
       "    }\n",
       "\n",
       "    .dataframe thead th {\n",
       "        text-align: right;\n",
       "    }\n",
       "</style>\n",
       "<table border=\"1\" class=\"dataframe\">\n",
       "  <thead>\n",
       "    <tr style=\"text-align: right;\">\n",
       "      <th></th>\n",
       "      <th>MEDV</th>\n",
       "    </tr>\n",
       "  </thead>\n",
       "  <tbody>\n",
       "    <tr>\n",
       "      <th>0</th>\n",
       "      <td>24.0</td>\n",
       "    </tr>\n",
       "    <tr>\n",
       "      <th>1</th>\n",
       "      <td>21.6</td>\n",
       "    </tr>\n",
       "    <tr>\n",
       "      <th>2</th>\n",
       "      <td>34.7</td>\n",
       "    </tr>\n",
       "    <tr>\n",
       "      <th>3</th>\n",
       "      <td>33.4</td>\n",
       "    </tr>\n",
       "    <tr>\n",
       "      <th>4</th>\n",
       "      <td>36.2</td>\n",
       "    </tr>\n",
       "  </tbody>\n",
       "</table>\n",
       "</div>"
      ],
      "text/plain": [
       "   MEDV\n",
       "0  24.0\n",
       "1  21.6\n",
       "2  34.7\n",
       "3  33.4\n",
       "4  36.2"
      ]
     },
     "execution_count": 180,
     "metadata": {},
     "output_type": "execute_result"
    }
   ],
   "source": [
    "y.head()"
   ]
  },
  {
   "cell_type": "code",
   "execution_count": 181,
   "metadata": {},
   "outputs": [
    {
     "name": "stdout",
     "output_type": "stream",
     "text": [
      "<class 'pandas.core.frame.DataFrame'>\n",
      "RangeIndex: 506 entries, 0 to 505\n",
      "Data columns (total 1 columns):\n",
      "MEDV    506 non-null float64\n",
      "dtypes: float64(1)\n",
      "memory usage: 4.1 KB\n"
     ]
    }
   ],
   "source": [
    "y.info()"
   ]
  },
  {
   "cell_type": "code",
   "execution_count": 182,
   "metadata": {},
   "outputs": [
    {
     "data": {
      "text/html": [
       "<div>\n",
       "<style scoped>\n",
       "    .dataframe tbody tr th:only-of-type {\n",
       "        vertical-align: middle;\n",
       "    }\n",
       "\n",
       "    .dataframe tbody tr th {\n",
       "        vertical-align: top;\n",
       "    }\n",
       "\n",
       "    .dataframe thead th {\n",
       "        text-align: right;\n",
       "    }\n",
       "</style>\n",
       "<table border=\"1\" class=\"dataframe\">\n",
       "  <thead>\n",
       "    <tr style=\"text-align: right;\">\n",
       "      <th></th>\n",
       "      <th>MEDV</th>\n",
       "    </tr>\n",
       "  </thead>\n",
       "  <tbody>\n",
       "    <tr>\n",
       "      <th>count</th>\n",
       "      <td>506.000000</td>\n",
       "    </tr>\n",
       "    <tr>\n",
       "      <th>mean</th>\n",
       "      <td>22.532806</td>\n",
       "    </tr>\n",
       "    <tr>\n",
       "      <th>std</th>\n",
       "      <td>9.197104</td>\n",
       "    </tr>\n",
       "    <tr>\n",
       "      <th>min</th>\n",
       "      <td>5.000000</td>\n",
       "    </tr>\n",
       "    <tr>\n",
       "      <th>25%</th>\n",
       "      <td>17.025000</td>\n",
       "    </tr>\n",
       "    <tr>\n",
       "      <th>50%</th>\n",
       "      <td>21.200000</td>\n",
       "    </tr>\n",
       "    <tr>\n",
       "      <th>75%</th>\n",
       "      <td>25.000000</td>\n",
       "    </tr>\n",
       "    <tr>\n",
       "      <th>max</th>\n",
       "      <td>50.000000</td>\n",
       "    </tr>\n",
       "  </tbody>\n",
       "</table>\n",
       "</div>"
      ],
      "text/plain": [
       "             MEDV\n",
       "count  506.000000\n",
       "mean    22.532806\n",
       "std      9.197104\n",
       "min      5.000000\n",
       "25%     17.025000\n",
       "50%     21.200000\n",
       "75%     25.000000\n",
       "max     50.000000"
      ]
     },
     "execution_count": 182,
     "metadata": {},
     "output_type": "execute_result"
    }
   ],
   "source": [
    "y.describe()"
   ]
  },
  {
   "cell_type": "markdown",
   "metadata": {},
   "source": [
    "The summary statistics tells us that the mean house price was 22,533. The median was slightly lower at 21,200 which suggests that the distribution might be skewed to the right. The highest price a house was sold for was 50,000. The lowest price recorded was 5000."
   ]
  },
  {
   "cell_type": "code",
   "execution_count": 183,
   "metadata": {},
   "outputs": [
    {
     "name": "stderr",
     "output_type": "stream",
     "text": [
      "/home/ivana/anaconda3/lib/python3.7/site-packages/scipy/stats/stats.py:1713: FutureWarning: Using a non-tuple sequence for multidimensional indexing is deprecated; use `arr[tuple(seq)]` instead of `arr[seq]`. In the future this will be interpreted as an array index, `arr[np.array(seq)]`, which will result either in an error or a different result.\n",
      "  return np.add.reduce(sorted[indexer] * weights, axis=axis) / sumval\n"
     ]
    },
    {
     "data": {
      "image/png": "[encoded data removed]",
      "text/plain": [
       "<Figure size 1008x576 with 1 Axes>"
      ]
     },
     "metadata": {
      "needs_background": "light"
     },
     "output_type": "display_data"
    }
   ],
   "source": [
    "# Plot distribution of house prices\n",
    "plt.figure(figsize=(14,8))\n",
    "ax = sns.distplot(y)\n",
    "plt.title('Distribution of Boston house prices')\n",
    "ax.set(xlabel='Median value of owner-occupied homes in $1000', ylabel='Percentage of dataset')\n",
    "plt.show()\n"
   ]
  },
  {
   "cell_type": "code",
   "execution_count": 184,
   "metadata": {},
   "outputs": [
    {
     "data": {
      "image/png": "[encoded data removed]",
      "text/plain": [
       "<Figure size 1008x576 with 1 Axes>"
      ]
     },
     "metadata": {
      "needs_background": "light"
     },
     "output_type": "display_data"
    }
   ],
   "source": [
    "# Draw scatter plot between crime and portion of population with lower status\n",
    "plt.figure(figsize=(14,8))\n",
    "plt.scatter(X.LSTAT, X.CRIM)\n",
    "plt.title('Relationship between portion of population with lower status and crime')\n",
    "plt.xlabel('Crime')\n",
    "plt.ylabel('LSTAT')\n",
    "plt.show()"
   ]
  },
  {
   "cell_type": "code",
   "execution_count": 185,
   "metadata": {},
   "outputs": [
    {
     "data": {
      "image/png": "[encoded data removed]",
      "text/plain": [
       "<Figure size 1440x1080 with 16 Axes>"
      ]
     },
     "metadata": {
      "needs_background": "light"
     },
     "output_type": "display_data"
    }
   ],
   "source": [
    "# Analyze the distributions of independent features\n",
    "X.hist(bins=50,figsize=(20,15))\n",
    "plt.show()"
   ]
  },
  {
   "cell_type": "code",
   "execution_count": 186,
   "metadata": {},
   "outputs": [
    {
     "data": {
      "text/plain": [
       "<matplotlib.axes._subplots.AxesSubplot at 0x7f214d159d10>"
      ]
     },
     "execution_count": 186,
     "metadata": {},
     "output_type": "execute_result"
    },
    {
     "data": {
      "image/png": "[encoded data removed]",
      "text/plain": [
       "<Figure size 1008x576 with 2 Axes>"
      ]
     },
     "metadata": {
      "needs_background": "light"
     },
     "output_type": "display_data"
    }
   ],
   "source": [
    "# Analyze correlation between the features\n",
    "corr = X.corr(method='pearson')\n",
    "\n",
    "# Plot the corelation heatmap\n",
    "plt.figure(figsize=(14,8))\n",
    "matrix = np.triu(corr) # take upper correlation matrix\n",
    "sns.heatmap(corr, annot = True, mask=matrix, cmap=sns.diverging_palette(250, 10, n=3, as_cmap=True))"
   ]
  },
  {
   "cell_type": "markdown",
   "metadata": {},
   "source": [
    "Attribute TAX shows high correlation with other attributes, especially RAD (index of accessibility to radial highways). Since Linear regression assumes that the variables are uncorrelated we will exclude TAX from modelling."
   ]
  },
  {
   "cell_type": "code",
   "execution_count": 187,
   "metadata": {},
   "outputs": [],
   "source": [
    "# Drop variable Tax\n",
    "X = X.drop(['TAX'], axis=1)"
   ]
  },
  {
   "cell_type": "markdown",
   "metadata": {},
   "source": [
    "Now we can split our dataset into train and test. This is done to prevent overfitting. We will train our model on 70% of data and test the model performance with the remaining 30%"
   ]
  },
  {
   "cell_type": "code",
   "execution_count": 188,
   "metadata": {},
   "outputs": [
    {
     "name": "stdout",
     "output_type": "stream",
     "text": [
      "(354, 12)\n",
      "(152, 12)\n",
      "(354, 1)\n",
      "(152, 1)\n"
     ]
    }
   ],
   "source": [
    "# Split data on training and testing sets\n",
    "X_train, X_test, y_train, y_test = train_test_split(X, y, test_size = 0.3, random_state = 42)\n",
    "print(X_train.shape)\n",
    "print(X_test.shape)\n",
    "print(y_train.shape)\n",
    "print(y_test.shape)"
   ]
  },
  {
   "cell_type": "markdown",
   "metadata": {},
   "source": [
    "## Multiple Linear regression"
   ]
  },
  {
   "cell_type": "code",
   "execution_count": 189,
   "metadata": {},
   "outputs": [],
   "source": [
    "# Fit linear regression \n",
    "lm = linear_model.LinearRegression()\n",
    "lm = lm.fit(X_train, y_train)"
   ]
  },
  {
   "cell_type": "code",
   "execution_count": 190,
   "metadata": {},
   "outputs": [
    {
     "data": {
      "image/png": "[encoded data removed]",
      "text/plain": [
       "<Figure size 432x288 with 1 Axes>"
      ]
     },
     "metadata": {
      "needs_background": "light"
     },
     "output_type": "display_data"
    }
   ],
   "source": [
    "# Predict house prices and plot the differences between actual prices and predicted values \n",
    "lm_y_pred = lm.predict(X_test)\n",
    "\n",
    "plt.scatter(y_test, lm_y_pred)\n",
    "plt.xlabel(\"Prices: $Y_i$\")\n",
    "plt.ylabel(\"Predicted prices: $\\hat{Y}_i$\")\n",
    "plt.title(\"Prices vs Predicted prices: $Y_i$ vs $\\hat{Y}_i$\")\n",
    "plt.show()"
   ]
  },
  {
   "cell_type": "code",
   "execution_count": 191,
   "metadata": {},
   "outputs": [
    {
     "data": {
      "text/html": [
       "<div>\n",
       "<style scoped>\n",
       "    .dataframe tbody tr th:only-of-type {\n",
       "        vertical-align: middle;\n",
       "    }\n",
       "\n",
       "    .dataframe tbody tr th {\n",
       "        vertical-align: top;\n",
       "    }\n",
       "\n",
       "    .dataframe thead th {\n",
       "        text-align: right;\n",
       "    }\n",
       "</style>\n",
       "<table border=\"1\" class=\"dataframe\">\n",
       "  <thead>\n",
       "    <tr style=\"text-align: right;\">\n",
       "      <th></th>\n",
       "      <th>Attribute</th>\n",
       "      <th>Coefficient</th>\n",
       "    </tr>\n",
       "  </thead>\n",
       "  <tbody>\n",
       "    <tr>\n",
       "      <th>0</th>\n",
       "      <td>CRIM</td>\n",
       "      <td>-0.132722</td>\n",
       "    </tr>\n",
       "    <tr>\n",
       "      <th>1</th>\n",
       "      <td>ZN</td>\n",
       "      <td>0.026249</td>\n",
       "    </tr>\n",
       "    <tr>\n",
       "      <th>2</th>\n",
       "      <td>INDUS</td>\n",
       "      <td>-0.007801</td>\n",
       "    </tr>\n",
       "    <tr>\n",
       "      <th>3</th>\n",
       "      <td>CHAS</td>\n",
       "      <td>3.338702</td>\n",
       "    </tr>\n",
       "    <tr>\n",
       "      <th>4</th>\n",
       "      <td>NOX</td>\n",
       "      <td>-16.139852</td>\n",
       "    </tr>\n",
       "    <tr>\n",
       "      <th>5</th>\n",
       "      <td>RM</td>\n",
       "      <td>4.114360</td>\n",
       "    </tr>\n",
       "    <tr>\n",
       "      <th>6</th>\n",
       "      <td>AGE</td>\n",
       "      <td>-0.011098</td>\n",
       "    </tr>\n",
       "    <tr>\n",
       "      <th>7</th>\n",
       "      <td>DIS</td>\n",
       "      <td>-1.366601</td>\n",
       "    </tr>\n",
       "    <tr>\n",
       "      <th>8</th>\n",
       "      <td>RAD</td>\n",
       "      <td>0.121465</td>\n",
       "    </tr>\n",
       "    <tr>\n",
       "      <th>9</th>\n",
       "      <td>PTRATIO</td>\n",
       "      <td>-0.939701</td>\n",
       "    </tr>\n",
       "    <tr>\n",
       "      <th>10</th>\n",
       "      <td>B</td>\n",
       "      <td>0.011986</td>\n",
       "    </tr>\n",
       "    <tr>\n",
       "      <th>11</th>\n",
       "      <td>LSTAT</td>\n",
       "      <td>-0.545554</td>\n",
       "    </tr>\n",
       "  </tbody>\n",
       "</table>\n",
       "</div>"
      ],
      "text/plain": [
       "   Attribute  Coefficient\n",
       "0       CRIM    -0.132722\n",
       "1         ZN     0.026249\n",
       "2      INDUS    -0.007801\n",
       "3       CHAS     3.338702\n",
       "4        NOX   -16.139852\n",
       "5         RM     4.114360\n",
       "6        AGE    -0.011098\n",
       "7        DIS    -1.366601\n",
       "8        RAD     0.121465\n",
       "9    PTRATIO    -0.939701\n",
       "10         B     0.011986\n",
       "11     LSTAT    -0.545554"
      ]
     },
     "execution_count": 191,
     "metadata": {},
     "output_type": "execute_result"
    }
   ],
   "source": [
    "# Look at the coefficients \n",
    "coef_values = pd.DataFrame(lm.coef_, index=['Coefficient']).transpose()\n",
    "att_names = pd.DataFrame(X.columns, columns=['Attribute'])\n",
    "coef_df = pd.concat([att_names,coef_values], axis=1, join='inner')\n",
    "coef_df"
   ]
  },
  {
   "cell_type": "code",
   "execution_count": 192,
   "metadata": {},
   "outputs": [
    {
     "data": {
      "text/plain": [
       "array([30.39095377])"
      ]
     },
     "execution_count": 192,
     "metadata": {},
     "output_type": "execute_result"
    }
   ],
   "source": [
    "# Show the intercept of regression\n",
    "lm.intercept_"
   ]
  },
  {
   "cell_type": "code",
   "execution_count": 193,
   "metadata": {},
   "outputs": [
    {
     "name": "stdout",
     "output_type": "stream",
     "text": [
      "{'Linear regression:': 'Coefficient of determination R^2: 0.70, Mean Absolut Error: 3.24, Mean Squared Error: 22.47, Root Mean Squared Error: 4.74'}\n"
     ]
    }
   ],
   "source": [
    "# Store the resulting scores \n",
    "results = {}\n",
    "\n",
    "results['Linear regression:'] = 'Coefficient of determination R^2: {:.2f}, Mean Absolut Error: {:.2f}, Mean Squared Error: {:.2f}, Root Mean Squared Error: {:.2f}'.format(lm.score(X_test,y_test),\n",
    "                                                                                                                                                                    metrics.mean_absolute_error(y_test, lm_y_pred),\n",
    "                                                                                                                                                                    metrics.mean_squared_error(y_test, lm_y_pred),\n",
    "                                                                                                                                                                    np.sqrt(metrics.mean_squared_error(y_test, lm_y_pred)))\n"
   ]
  },
  {
   "cell_type": "code",
   "execution_count": 194,
   "metadata": {},
   "outputs": [
    {
     "name": "stdout",
     "output_type": "stream",
     "text": [
      "Coefficient of determination R^2 of the prediction: 0.70\n"
     ]
    }
   ],
   "source": [
    "print('Coefficient of determination R^2 of the prediction: {:.2f}'.format(lm.score(X_test,y_test)))"
   ]
  },
  {
   "cell_type": "code",
   "execution_count": 195,
   "metadata": {},
   "outputs": [
    {
     "name": "stdout",
     "output_type": "stream",
     "text": [
      "Mean Absolut Error:  3.2412913600989595\n",
      "Mean Squared Error:  22.47426702288998\n",
      "Root Mean Squared Error:  4.74070322029232\n"
     ]
    }
   ],
   "source": [
    "print('Mean Absolut Error: ', metrics.mean_absolute_error(y_test, lm_y_pred))\n",
    "print('Mean Squared Error: ', metrics.mean_squared_error(y_test, lm_y_pred))\n",
    "print('Root Mean Squared Error: ', np.sqrt(metrics.mean_squared_error(y_test, lm_y_pred)))"
   ]
  },
  {
   "cell_type": "markdown",
   "metadata": {},
   "source": [
    "The linear regression aims to establish a linear relationship between the predictor variable(s) and the response variable. However, what if this relationship is not truly linear? For this case, we will try the decision tree as it is a nonparametric model. We can then compare the coefficient of determination and apply a model which predicts prices with higher precision."
   ]
  },
  {
   "cell_type": "markdown",
   "metadata": {},
   "source": [
    "## Decision Tree Regressor"
   ]
  },
  {
   "cell_type": "code",
   "execution_count": 196,
   "metadata": {},
   "outputs": [
    {
     "data": {
      "text/plain": [
       "DecisionTreeRegressor(criterion='mse', max_depth=3, max_features=None,\n",
       "           max_leaf_nodes=None, min_impurity_decrease=0.0,\n",
       "           min_impurity_split=None, min_samples_leaf=1,\n",
       "           min_samples_split=2, min_weight_fraction_leaf=0.0,\n",
       "           presort=False, random_state=0, splitter='best')"
      ]
     },
     "execution_count": 196,
     "metadata": {},
     "output_type": "execute_result"
    }
   ],
   "source": [
    "# Fit decision tree \n",
    "decision_tree =  DecisionTreeRegressor(max_depth=3,random_state=0)\n",
    "decision_tree.fit(X_train, y_train)"
   ]
  },
  {
   "cell_type": "code",
   "execution_count": 197,
   "metadata": {},
   "outputs": [
    {
     "data": {
      "text/plain": [
       "array([0.        , 0.        , 0.        , 0.        , 0.        ,\n",
       "       0.64420336, 0.        , 0.10423915, 0.        , 0.        ,\n",
       "       0.02097385, 0.23058364])"
      ]
     },
     "execution_count": 197,
     "metadata": {},
     "output_type": "execute_result"
    }
   ],
   "source": [
    "# Print feature importances\n",
    "decision_tree.feature_importances_"
   ]
  },
  {
   "cell_type": "code",
   "execution_count": 198,
   "metadata": {},
   "outputs": [
    {
     "data": {
      "image/svg+xml": [
       "<svg height=\"373pt\" viewBox=\"0.00 0.00 954.00 373.00\" width=\"954pt\" xmlns=\"http://www.w3.org/2000/svg\" xmlns:xlink=\"http://www.w3.org/1999/xlink\">\n",
       "<g class=\"graph\" id=\"graph0\" transform=\"scale(1 1) rotate(0) translate(4 369)\">\n",
       "<title>Tree</title>\n",
       "<polygon fill=\"#ffffff\" points=\"-4,4 -4,-369 950,-369 950,4 -4,4\" stroke=\"transparent\"/>\n",
       "<!-- 0 -->\n",
       "<g class=\"node\" id=\"node1\">\n",
       "<title>0</title>\n",
       "<path d=\"M523,-365C523,-365 441,-365 441,-365 435,-365 429,-359 429,-353 429,-353 429,-309 429,-309 429,-303 435,-297 441,-297 441,-297 523,-297 523,-297 529,-297 535,-303 535,-309 535,-309 535,-353 535,-353 535,-359 529,-365 523,-365\" fill=\"#e58139\" fill-opacity=\"0.321569\" stroke=\"#000000\"/>\n",
       "<text fill=\"#000000\" font-family=\"Helvetica,sans-Serif\" font-size=\"14.00\" text-anchor=\"middle\" x=\"482\" y=\"-349.8\">RM &lt;= 6.941</text>\n",
       "<text fill=\"#000000\" font-family=\"Helvetica,sans-Serif\" font-size=\"14.00\" text-anchor=\"middle\" x=\"482\" y=\"-334.8\">mse = 87.897</text>\n",
       "<text fill=\"#000000\" font-family=\"Helvetica,sans-Serif\" font-size=\"14.00\" text-anchor=\"middle\" x=\"482\" y=\"-319.8\">samples = 354</text>\n",
       "<text fill=\"#000000\" font-family=\"Helvetica,sans-Serif\" font-size=\"14.00\" text-anchor=\"middle\" x=\"482\" y=\"-304.8\">value = 23.016</text>\n",
       "</g>\n",
       "<!-- 1 -->\n",
       "<g class=\"node\" id=\"node2\">\n",
       "<title>1</title>\n",
       "<path d=\"M400.5,-261C400.5,-261 315.5,-261 315.5,-261 309.5,-261 303.5,-255 303.5,-249 303.5,-249 303.5,-205 303.5,-205 303.5,-199 309.5,-193 315.5,-193 315.5,-193 400.5,-193 400.5,-193 406.5,-193 412.5,-199 412.5,-205 412.5,-205 412.5,-249 412.5,-249 412.5,-255 406.5,-261 400.5,-261\" fill=\"#e58139\" fill-opacity=\"0.235294\" stroke=\"#000000\"/>\n",
       "<text fill=\"#000000\" font-family=\"Helvetica,sans-Serif\" font-size=\"14.00\" text-anchor=\"middle\" x=\"358\" y=\"-245.8\">LSTAT &lt;= 14.4</text>\n",
       "<text fill=\"#000000\" font-family=\"Helvetica,sans-Serif\" font-size=\"14.00\" text-anchor=\"middle\" x=\"358\" y=\"-230.8\">mse = 41.295</text>\n",
       "<text fill=\"#000000\" font-family=\"Helvetica,sans-Serif\" font-size=\"14.00\" text-anchor=\"middle\" x=\"358\" y=\"-215.8\">samples = 292</text>\n",
       "<text fill=\"#000000\" font-family=\"Helvetica,sans-Serif\" font-size=\"14.00\" text-anchor=\"middle\" x=\"358\" y=\"-200.8\">value = 20.084</text>\n",
       "</g>\n",
       "<!-- 0&#45;&gt;1 -->\n",
       "<g class=\"edge\" id=\"edge1\">\n",
       "<title>0-&gt;1</title>\n",
       "<path d=\"M441.3978,-296.9465C430.2644,-287.6088 418.0817,-277.3911 406.5511,-267.7203\" fill=\"none\" stroke=\"#000000\"/>\n",
       "<polygon fill=\"#000000\" points=\"408.6046,-264.8745 398.6935,-261.13 404.1062,-270.2378 408.6046,-264.8745\" stroke=\"#000000\"/>\n",
       "<text fill=\"#000000\" font-family=\"Helvetica,sans-Serif\" font-size=\"14.00\" text-anchor=\"middle\" x=\"400.4411\" y=\"-277.3535\">True</text>\n",
       "</g>\n",
       "<!-- 8 -->\n",
       "<g class=\"node\" id=\"node9\">\n",
       "<title>8</title>\n",
       "<path d=\"M637,-261C637,-261 555,-261 555,-261 549,-261 543,-255 543,-249 543,-249 543,-205 543,-205 543,-199 549,-193 555,-193 555,-193 637,-193 637,-193 643,-193 649,-199 649,-205 649,-205 649,-249 649,-249 649,-255 643,-261 637,-261\" fill=\"#e58139\" fill-opacity=\"0.737255\" stroke=\"#000000\"/>\n",
       "<text fill=\"#000000\" font-family=\"Helvetica,sans-Serif\" font-size=\"14.00\" text-anchor=\"middle\" x=\"596\" y=\"-245.8\">RM &lt;= 7.437</text>\n",
       "<text fill=\"#000000\" font-family=\"Helvetica,sans-Serif\" font-size=\"14.00\" text-anchor=\"middle\" x=\"596\" y=\"-230.8\">mse = 76.221</text>\n",
       "<text fill=\"#000000\" font-family=\"Helvetica,sans-Serif\" font-size=\"14.00\" text-anchor=\"middle\" x=\"596\" y=\"-215.8\">samples = 62</text>\n",
       "<text fill=\"#000000\" font-family=\"Helvetica,sans-Serif\" font-size=\"14.00\" text-anchor=\"middle\" x=\"596\" y=\"-200.8\">value = 36.824</text>\n",
       "</g>\n",
       "<!-- 0&#45;&gt;8 -->\n",
       "<g class=\"edge\" id=\"edge8\">\n",
       "<title>0-&gt;8</title>\n",
       "<path d=\"M519.3279,-296.9465C529.465,-287.6986 540.5483,-277.5876 551.0583,-267.9994\" fill=\"none\" stroke=\"#000000\"/>\n",
       "<polygon fill=\"#000000\" points=\"553.5595,-270.4553 558.5883,-261.13 548.8417,-265.284 553.5595,-270.4553\" stroke=\"#000000\"/>\n",
       "<text fill=\"#000000\" font-family=\"Helvetica,sans-Serif\" font-size=\"14.00\" text-anchor=\"middle\" x=\"557.6718\" y=\"-277.409\">False</text>\n",
       "</g>\n",
       "<!-- 2 -->\n",
       "<g class=\"node\" id=\"node3\">\n",
       "<title>2</title>\n",
       "<path d=\"M218,-157C218,-157 136,-157 136,-157 130,-157 124,-151 124,-145 124,-145 124,-101 124,-101 124,-95 130,-89 136,-89 136,-89 218,-89 218,-89 224,-89 230,-95 230,-101 230,-101 230,-145 230,-145 230,-151 224,-157 218,-157\" fill=\"#e58139\" fill-opacity=\"0.337255\" stroke=\"#000000\"/>\n",
       "<text fill=\"#000000\" font-family=\"Helvetica,sans-Serif\" font-size=\"14.00\" text-anchor=\"middle\" x=\"177\" y=\"-141.8\">DIS &lt;= 1.385</text>\n",
       "<text fill=\"#000000\" font-family=\"Helvetica,sans-Serif\" font-size=\"14.00\" text-anchor=\"middle\" x=\"177\" y=\"-126.8\">mse = 26.114</text>\n",
       "<text fill=\"#000000\" font-family=\"Helvetica,sans-Serif\" font-size=\"14.00\" text-anchor=\"middle\" x=\"177\" y=\"-111.8\">samples = 178</text>\n",
       "<text fill=\"#000000\" font-family=\"Helvetica,sans-Serif\" font-size=\"14.00\" text-anchor=\"middle\" x=\"177\" y=\"-96.8\">value = 23.47</text>\n",
       "</g>\n",
       "<!-- 1&#45;&gt;2 -->\n",
       "<g class=\"edge\" id=\"edge2\">\n",
       "<title>1-&gt;2</title>\n",
       "<path d=\"M303.2028,-195.5143C282.9003,-183.8488 259.7428,-170.5428 238.8552,-158.5411\" fill=\"none\" stroke=\"#000000\"/>\n",
       "<polygon fill=\"#000000\" points=\"240.4716,-155.4333 230.0573,-153.4859 236.9842,-161.5027 240.4716,-155.4333\" stroke=\"#000000\"/>\n",
       "</g>\n",
       "<!-- 5 -->\n",
       "<g class=\"node\" id=\"node6\">\n",
       "<title>5</title>\n",
       "<path d=\"M399,-157C399,-157 317,-157 317,-157 311,-157 305,-151 305,-145 305,-145 305,-101 305,-101 305,-95 311,-89 317,-89 317,-89 399,-89 399,-89 405,-89 411,-95 411,-101 411,-101 411,-145 411,-145 411,-151 405,-157 399,-157\" fill=\"#e58139\" fill-opacity=\"0.074510\" stroke=\"#000000\"/>\n",
       "<text fill=\"#000000\" font-family=\"Helvetica,sans-Serif\" font-size=\"14.00\" text-anchor=\"middle\" x=\"358\" y=\"-141.8\">DIS &lt;= 2.079</text>\n",
       "<text fill=\"#000000\" font-family=\"Helvetica,sans-Serif\" font-size=\"14.00\" text-anchor=\"middle\" x=\"358\" y=\"-126.8\">mse = 19.151</text>\n",
       "<text fill=\"#000000\" font-family=\"Helvetica,sans-Serif\" font-size=\"14.00\" text-anchor=\"middle\" x=\"358\" y=\"-111.8\">samples = 114</text>\n",
       "<text fill=\"#000000\" font-family=\"Helvetica,sans-Serif\" font-size=\"14.00\" text-anchor=\"middle\" x=\"358\" y=\"-96.8\">value = 14.797</text>\n",
       "</g>\n",
       "<!-- 1&#45;&gt;5 -->\n",
       "<g class=\"edge\" id=\"edge5\">\n",
       "<title>1-&gt;5</title>\n",
       "<path d=\"M358,-192.9465C358,-184.776 358,-175.9318 358,-167.3697\" fill=\"none\" stroke=\"#000000\"/>\n",
       "<polygon fill=\"#000000\" points=\"361.5001,-167.13 358,-157.13 354.5001,-167.13 361.5001,-167.13\" stroke=\"#000000\"/>\n",
       "</g>\n",
       "<!-- 3 -->\n",
       "<g class=\"node\" id=\"node4\">\n",
       "<title>3</title>\n",
       "<path d=\"M94,-53C94,-53 12,-53 12,-53 6,-53 0,-47 0,-41 0,-41 0,-12 0,-12 0,-6 6,0 12,0 12,0 94,0 94,0 100,0 106,-6 106,-12 106,-12 106,-41 106,-41 106,-47 100,-53 94,-53\" fill=\"#e58139\" fill-opacity=\"0.964706\" stroke=\"#000000\"/>\n",
       "<text fill=\"#000000\" font-family=\"Helvetica,sans-Serif\" font-size=\"14.00\" text-anchor=\"middle\" x=\"53\" y=\"-37.8\">mse = 91.577</text>\n",
       "<text fill=\"#000000\" font-family=\"Helvetica,sans-Serif\" font-size=\"14.00\" text-anchor=\"middle\" x=\"53\" y=\"-22.8\">samples = 4</text>\n",
       "<text fill=\"#000000\" font-family=\"Helvetica,sans-Serif\" font-size=\"14.00\" text-anchor=\"middle\" x=\"53\" y=\"-7.8\">value = 44.475</text>\n",
       "</g>\n",
       "<!-- 2&#45;&gt;3 -->\n",
       "<g class=\"edge\" id=\"edge3\">\n",
       "<title>2-&gt;3</title>\n",
       "<path d=\"M133.2822,-88.9777C121.0451,-79.4545 107.7645,-69.1191 95.5934,-59.6473\" fill=\"none\" stroke=\"#000000\"/>\n",
       "<polygon fill=\"#000000\" points=\"97.4125,-56.628 87.3711,-53.2485 93.1134,-62.1523 97.4125,-56.628\" stroke=\"#000000\"/>\n",
       "</g>\n",
       "<!-- 4 -->\n",
       "<g class=\"node\" id=\"node5\">\n",
       "<title>4</title>\n",
       "<path d=\"M218,-53C218,-53 136,-53 136,-53 130,-53 124,-47 124,-41 124,-41 124,-12 124,-12 124,-6 130,0 136,0 136,0 218,0 218,0 224,0 230,-6 230,-12 230,-12 230,-41 230,-41 230,-47 224,-53 218,-53\" fill=\"#e58139\" fill-opacity=\"0.321569\" stroke=\"#000000\"/>\n",
       "<text fill=\"#000000\" font-family=\"Helvetica,sans-Serif\" font-size=\"14.00\" text-anchor=\"middle\" x=\"177\" y=\"-37.8\">mse = 14.233</text>\n",
       "<text fill=\"#000000\" font-family=\"Helvetica,sans-Serif\" font-size=\"14.00\" text-anchor=\"middle\" x=\"177\" y=\"-22.8\">samples = 174</text>\n",
       "<text fill=\"#000000\" font-family=\"Helvetica,sans-Serif\" font-size=\"14.00\" text-anchor=\"middle\" x=\"177\" y=\"-7.8\">value = 22.987</text>\n",
       "</g>\n",
       "<!-- 2&#45;&gt;4 -->\n",
       "<g class=\"edge\" id=\"edge4\">\n",
       "<title>2-&gt;4</title>\n",
       "<path d=\"M177,-88.9777C177,-80.7364 177,-71.887 177,-63.5153\" fill=\"none\" stroke=\"#000000\"/>\n",
       "<polygon fill=\"#000000\" points=\"180.5001,-63.2484 177,-53.2485 173.5001,-63.2485 180.5001,-63.2484\" stroke=\"#000000\"/>\n",
       "</g>\n",
       "<!-- 6 -->\n",
       "<g class=\"node\" id=\"node7\">\n",
       "<title>6</title>\n",
       "<path d=\"M342,-53C342,-53 260,-53 260,-53 254,-53 248,-47 248,-41 248,-41 248,-12 248,-12 248,-6 254,0 260,0 260,0 342,0 342,0 348,0 354,-6 354,-12 354,-12 354,-41 354,-41 354,-47 348,-53 342,-53\" fill=\"transparent\" stroke=\"#000000\"/>\n",
       "<text fill=\"#000000\" font-family=\"Helvetica,sans-Serif\" font-size=\"14.00\" text-anchor=\"middle\" x=\"301\" y=\"-37.8\">mse = 12.162</text>\n",
       "<text fill=\"#000000\" font-family=\"Helvetica,sans-Serif\" font-size=\"14.00\" text-anchor=\"middle\" x=\"301\" y=\"-22.8\">samples = 62</text>\n",
       "<text fill=\"#000000\" font-family=\"Helvetica,sans-Serif\" font-size=\"14.00\" text-anchor=\"middle\" x=\"301\" y=\"-7.8\">value = 12.266</text>\n",
       "</g>\n",
       "<!-- 5&#45;&gt;6 -->\n",
       "<g class=\"edge\" id=\"edge6\">\n",
       "<title>5-&gt;6</title>\n",
       "<path d=\"M337.9039,-88.9777C332.7656,-80.2786 327.227,-70.9018 322.0425,-62.1247\" fill=\"none\" stroke=\"#000000\"/>\n",
       "<polygon fill=\"#000000\" points=\"324.899,-60.0786 316.7996,-53.2485 318.8719,-63.6387 324.899,-60.0786\" stroke=\"#000000\"/>\n",
       "</g>\n",
       "<!-- 7 -->\n",
       "<g class=\"node\" id=\"node8\">\n",
       "<title>7</title>\n",
       "<path d=\"M466,-53C466,-53 384,-53 384,-53 378,-53 372,-47 372,-41 372,-41 372,-12 372,-12 372,-6 378,0 384,0 384,0 466,0 466,0 472,0 478,-6 478,-12 478,-12 478,-41 478,-41 478,-47 472,-53 466,-53\" fill=\"#e58139\" fill-opacity=\"0.164706\" stroke=\"#000000\"/>\n",
       "<text fill=\"#000000\" font-family=\"Helvetica,sans-Serif\" font-size=\"14.00\" text-anchor=\"middle\" x=\"425\" y=\"-37.8\">mse = 10.738</text>\n",
       "<text fill=\"#000000\" font-family=\"Helvetica,sans-Serif\" font-size=\"14.00\" text-anchor=\"middle\" x=\"425\" y=\"-22.8\">samples = 52</text>\n",
       "<text fill=\"#000000\" font-family=\"Helvetica,sans-Serif\" font-size=\"14.00\" text-anchor=\"middle\" x=\"425\" y=\"-7.8\">value = 17.815</text>\n",
       "</g>\n",
       "<!-- 5&#45;&gt;7 -->\n",
       "<g class=\"edge\" id=\"edge7\">\n",
       "<title>5-&gt;7</title>\n",
       "<path d=\"M381.6217,-88.9777C387.7887,-80.0954 394.4461,-70.5067 400.6501,-61.5711\" fill=\"none\" stroke=\"#000000\"/>\n",
       "<polygon fill=\"#000000\" points=\"403.6003,-63.4589 406.4285,-53.2485 397.8503,-59.4666 403.6003,-63.4589\" stroke=\"#000000\"/>\n",
       "</g>\n",
       "<!-- 9 -->\n",
       "<g class=\"node\" id=\"node10\">\n",
       "<title>9</title>\n",
       "<path d=\"M646,-157C646,-157 546,-157 546,-157 540,-157 534,-151 534,-145 534,-145 534,-101 534,-101 534,-95 540,-89 546,-89 546,-89 646,-89 646,-89 652,-89 658,-95 658,-101 658,-101 658,-145 658,-145 658,-151 652,-157 646,-157\" fill=\"#e58139\" fill-opacity=\"0.600000\" stroke=\"#000000\"/>\n",
       "<text fill=\"#000000\" font-family=\"Helvetica,sans-Serif\" font-size=\"14.00\" text-anchor=\"middle\" x=\"596\" y=\"-141.8\">LSTAT &lt;= 15.765</text>\n",
       "<text fill=\"#000000\" font-family=\"Helvetica,sans-Serif\" font-size=\"14.00\" text-anchor=\"middle\" x=\"596\" y=\"-126.8\">mse = 39.454</text>\n",
       "<text fill=\"#000000\" font-family=\"Helvetica,sans-Serif\" font-size=\"14.00\" text-anchor=\"middle\" x=\"596\" y=\"-111.8\">samples = 39</text>\n",
       "<text fill=\"#000000\" font-family=\"Helvetica,sans-Serif\" font-size=\"14.00\" text-anchor=\"middle\" x=\"596\" y=\"-96.8\">value = 32.241</text>\n",
       "</g>\n",
       "<!-- 8&#45;&gt;9 -->\n",
       "<g class=\"edge\" id=\"edge9\">\n",
       "<title>8-&gt;9</title>\n",
       "<path d=\"M596,-192.9465C596,-184.776 596,-175.9318 596,-167.3697\" fill=\"none\" stroke=\"#000000\"/>\n",
       "<polygon fill=\"#000000\" points=\"599.5001,-167.13 596,-157.13 592.5001,-167.13 599.5001,-167.13\" stroke=\"#000000\"/>\n",
       "</g>\n",
       "<!-- 12 -->\n",
       "<g class=\"node\" id=\"node13\">\n",
       "<title>12</title>\n",
       "<path d=\"M817,-157C817,-157 735,-157 735,-157 729,-157 723,-151 723,-145 723,-145 723,-101 723,-101 723,-95 729,-89 735,-89 735,-89 817,-89 817,-89 823,-89 829,-95 829,-101 829,-101 829,-145 829,-145 829,-151 823,-157 817,-157\" fill=\"#e58139\" fill-opacity=\"0.968627\" stroke=\"#000000\"/>\n",
       "<text fill=\"#000000\" font-family=\"Helvetica,sans-Serif\" font-size=\"14.00\" text-anchor=\"middle\" x=\"776\" y=\"-141.8\">B &lt;= 361.925</text>\n",
       "<text fill=\"#000000\" font-family=\"Helvetica,sans-Serif\" font-size=\"14.00\" text-anchor=\"middle\" x=\"776\" y=\"-126.8\">mse = 42.551</text>\n",
       "<text fill=\"#000000\" font-family=\"Helvetica,sans-Serif\" font-size=\"14.00\" text-anchor=\"middle\" x=\"776\" y=\"-111.8\">samples = 23</text>\n",
       "<text fill=\"#000000\" font-family=\"Helvetica,sans-Serif\" font-size=\"14.00\" text-anchor=\"middle\" x=\"776\" y=\"-96.8\">value = 44.596</text>\n",
       "</g>\n",
       "<!-- 8&#45;&gt;12 -->\n",
       "<g class=\"edge\" id=\"edge12\">\n",
       "<title>8-&gt;12</title>\n",
       "<path d=\"M649.0324,-196.3591C669.358,-184.6154 692.7284,-171.1125 713.8337,-158.9183\" fill=\"none\" stroke=\"#000000\"/>\n",
       "<polygon fill=\"#000000\" points=\"715.817,-161.8147 722.7247,-153.7813 712.315,-155.7536 715.817,-161.8147\" stroke=\"#000000\"/>\n",
       "</g>\n",
       "<!-- 10 -->\n",
       "<g class=\"node\" id=\"node11\">\n",
       "<title>10</title>\n",
       "<path d=\"M590,-53C590,-53 508,-53 508,-53 502,-53 496,-47 496,-41 496,-41 496,-12 496,-12 496,-6 502,0 508,0 508,0 590,0 590,0 596,0 602,-6 602,-12 602,-12 602,-41 602,-41 602,-47 596,-53 590,-53\" fill=\"#e58139\" fill-opacity=\"0.627451\" stroke=\"#000000\"/>\n",
       "<text fill=\"#000000\" font-family=\"Helvetica,sans-Serif\" font-size=\"14.00\" text-anchor=\"middle\" x=\"549\" y=\"-37.8\">mse = 22.096</text>\n",
       "<text fill=\"#000000\" font-family=\"Helvetica,sans-Serif\" font-size=\"14.00\" text-anchor=\"middle\" x=\"549\" y=\"-22.8\">samples = 37</text>\n",
       "<text fill=\"#000000\" font-family=\"Helvetica,sans-Serif\" font-size=\"14.00\" text-anchor=\"middle\" x=\"549\" y=\"-7.8\">value = 33.222</text>\n",
       "</g>\n",
       "<!-- 9&#45;&gt;10 -->\n",
       "<g class=\"edge\" id=\"edge10\">\n",
       "<title>9-&gt;10</title>\n",
       "<path d=\"M579.4296,-88.9777C575.2373,-80.3702 570.7219,-71.0992 566.486,-62.402\" fill=\"none\" stroke=\"#000000\"/>\n",
       "<polygon fill=\"#000000\" points=\"569.5532,-60.7063 562.0278,-53.2485 563.2599,-63.7714 569.5532,-60.7063\" stroke=\"#000000\"/>\n",
       "</g>\n",
       "<!-- 11 -->\n",
       "<g class=\"node\" id=\"node12\">\n",
       "<title>11</title>\n",
       "<path d=\"M700,-53C700,-53 632,-53 632,-53 626,-53 620,-47 620,-41 620,-41 620,-12 620,-12 620,-6 626,0 632,0 632,0 700,0 700,0 706,0 712,-6 712,-12 712,-12 712,-41 712,-41 712,-47 706,-53 700,-53\" fill=\"#e58139\" fill-opacity=\"0.054902\" stroke=\"#000000\"/>\n",
       "<text fill=\"#000000\" font-family=\"Helvetica,sans-Serif\" font-size=\"14.00\" text-anchor=\"middle\" x=\"666\" y=\"-37.8\">mse = 13.69</text>\n",
       "<text fill=\"#000000\" font-family=\"Helvetica,sans-Serif\" font-size=\"14.00\" text-anchor=\"middle\" x=\"666\" y=\"-22.8\">samples = 2</text>\n",
       "<text fill=\"#000000\" font-family=\"Helvetica,sans-Serif\" font-size=\"14.00\" text-anchor=\"middle\" x=\"666\" y=\"-7.8\">value = 14.1</text>\n",
       "</g>\n",
       "<!-- 9&#45;&gt;11 -->\n",
       "<g class=\"edge\" id=\"edge11\">\n",
       "<title>9-&gt;11</title>\n",
       "<path d=\"M620.6794,-88.9777C627.1225,-80.0954 634.078,-70.5067 640.5598,-61.5711\" fill=\"none\" stroke=\"#000000\"/>\n",
       "<polygon fill=\"#000000\" points=\"643.5583,-63.3982 646.597,-53.2485 637.8921,-59.288 643.5583,-63.3982\" stroke=\"#000000\"/>\n",
       "</g>\n",
       "<!-- 13 -->\n",
       "<g class=\"node\" id=\"node14\">\n",
       "<title>13</title>\n",
       "<path d=\"M809.5,-53C809.5,-53 742.5,-53 742.5,-53 736.5,-53 730.5,-47 730.5,-41 730.5,-41 730.5,-12 730.5,-12 730.5,-6 736.5,0 742.5,0 742.5,0 809.5,0 809.5,0 815.5,0 821.5,-6 821.5,-12 821.5,-12 821.5,-41 821.5,-41 821.5,-47 815.5,-53 809.5,-53\" fill=\"#e58139\" fill-opacity=\"0.290196\" stroke=\"#000000\"/>\n",
       "<text fill=\"#000000\" font-family=\"Helvetica,sans-Serif\" font-size=\"14.00\" text-anchor=\"middle\" x=\"776\" y=\"-37.8\">mse = 0.0</text>\n",
       "<text fill=\"#000000\" font-family=\"Helvetica,sans-Serif\" font-size=\"14.00\" text-anchor=\"middle\" x=\"776\" y=\"-22.8\">samples = 1</text>\n",
       "<text fill=\"#000000\" font-family=\"Helvetica,sans-Serif\" font-size=\"14.00\" text-anchor=\"middle\" x=\"776\" y=\"-7.8\">value = 21.9</text>\n",
       "</g>\n",
       "<!-- 12&#45;&gt;13 -->\n",
       "<g class=\"edge\" id=\"edge13\">\n",
       "<title>12-&gt;13</title>\n",
       "<path d=\"M776,-88.9777C776,-80.7364 776,-71.887 776,-63.5153\" fill=\"none\" stroke=\"#000000\"/>\n",
       "<polygon fill=\"#000000\" points=\"779.5001,-63.2484 776,-53.2485 772.5001,-63.2485 779.5001,-63.2484\" stroke=\"#000000\"/>\n",
       "</g>\n",
       "<!-- 14 -->\n",
       "<g class=\"node\" id=\"node15\">\n",
       "<title>14</title>\n",
       "<path d=\"M934,-53C934,-53 852,-53 852,-53 846,-53 840,-47 840,-41 840,-41 840,-12 840,-12 840,-6 846,0 852,0 852,0 934,0 934,0 940,0 946,-6 946,-12 946,-12 946,-41 946,-41 946,-47 940,-53 934,-53\" fill=\"#e58139\" stroke=\"#000000\"/>\n",
       "<text fill=\"#000000\" font-family=\"Helvetica,sans-Serif\" font-size=\"14.00\" text-anchor=\"middle\" x=\"893\" y=\"-37.8\">mse = 20.007</text>\n",
       "<text fill=\"#000000\" font-family=\"Helvetica,sans-Serif\" font-size=\"14.00\" text-anchor=\"middle\" x=\"893\" y=\"-22.8\">samples = 22</text>\n",
       "<text fill=\"#000000\" font-family=\"Helvetica,sans-Serif\" font-size=\"14.00\" text-anchor=\"middle\" x=\"893\" y=\"-7.8\">value = 45.627</text>\n",
       "</g>\n",
       "<!-- 12&#45;&gt;14 -->\n",
       "<g class=\"edge\" id=\"edge14\">\n",
       "<title>12-&gt;14</title>\n",
       "<path d=\"M817.2498,-88.9777C828.7961,-79.4545 841.3271,-69.1191 852.811,-59.6473\" fill=\"none\" stroke=\"#000000\"/>\n",
       "<polygon fill=\"#000000\" points=\"855.0816,-62.3115 860.5692,-53.2485 850.6276,-56.9113 855.0816,-62.3115\" stroke=\"#000000\"/>\n",
       "</g>\n",
       "</g>\n",
       "</svg>"
      ],
      "text/plain": [
       "<IPython.core.display.SVG object>"
      ]
     },
     "metadata": {},
     "output_type": "display_data"
    }
   ],
   "source": [
    "# Draw the decision tree\n",
    "graph = Source(tree.export_graphviz(\n",
    "    decision_tree,\n",
    "    out_file=None, \n",
    "    feature_names=X_train.columns, \n",
    "    class_names=y_train.columns, \n",
    "    filled=True,\n",
    "    rounded=True))\n",
    "\n",
    "display(SVG(graph.pipe(format='svg')))"
   ]
  },
  {
   "cell_type": "markdown",
   "metadata": {},
   "source": [
    "Now let's interpret the decision tree. Suppose we find a house which needs to be evaluated. We start at the root node  (top of the decision tree) which asks whether the house has less than 6.94 rooms. If it does, then we move down to the root's left child node.  This node looks if the portion of the population with lower status is less than 14.4. If it is we move to the bottom left node. Lastly, if the weighted distance to five Boston employment centres is less than 1.385 we value our house at 44,475 dollars or if it is further away for 22,987 dollars.\n",
    "\n",
    "The parameter max_depth sets how many nodes a tree can create. Generaly by adding the nodes the accuracy of prediction increases but we might get into the point where the model overfits and would not perform good on a new set of data. Most decision tree algorithms have multiple stopping criteria, including a user-defined depth and a minimum number of data points that it's willing to split on."
   ]
  },
  {
   "cell_type": "code",
   "execution_count": 199,
   "metadata": {},
   "outputs": [
    {
     "data": {
      "text/plain": [
       "DecisionTreeRegressor(criterion='mse', max_depth=5, max_features=None,\n",
       "           max_leaf_nodes=None, min_impurity_decrease=0.0,\n",
       "           min_impurity_split=None, min_samples_leaf=1,\n",
       "           min_samples_split=15, min_weight_fraction_leaf=0.0,\n",
       "           presort=False, random_state=0, splitter='best')"
      ]
     },
     "execution_count": 199,
     "metadata": {},
     "output_type": "execute_result"
    }
   ],
   "source": [
    "# Fit decision tree with higher mac depth and minimum number of samples required to split an internal node\n",
    "decision_tree =  DecisionTreeRegressor(max_depth=5,\n",
    "                                       min_samples_split=15,\n",
    "                                       random_state=0)\n",
    "decision_tree.fit(X_train, y_train)"
   ]
  },
  {
   "cell_type": "code",
   "execution_count": 200,
   "metadata": {},
   "outputs": [],
   "source": [
    "# Make prediction\n",
    "dt_y_pred = decision_tree.predict(X_test)"
   ]
  },
  {
   "cell_type": "code",
   "execution_count": 201,
   "metadata": {},
   "outputs": [
    {
     "name": "stdout",
     "output_type": "stream",
     "text": [
      "Linear regression:\n",
      "Coefficient of determination R^2: 0.70, Mean Absolut Error: 3.24, Mean Squared Error: 22.47, Root Mean Squared Error: 4.74\n",
      "\n",
      "Decision Tree:\n",
      "Coefficient of determination R^2: 0.84, Mean Absolut Error: 2.53, Mean Squared Error: 11.77, Root Mean Squared Error: 3.43\n",
      "\n"
     ]
    }
   ],
   "source": [
    "# Record and show scores\n",
    "results['Decision Tree:'] = 'Coefficient of determination R^2: {:.2f}, Mean Absolut Error: {:.2f}, Mean Squared Error: {:.2f}, Root Mean Squared Error: {:.2f}'.format(decision_tree.score(X_test,y_test),\n",
    "                                                                                                                                                                    metrics.mean_absolute_error(y_test, dt_y_pred),\n",
    "                                                                                                                                                                    metrics.mean_squared_error(y_test, dt_y_pred),\n",
    "                                                                                                                                                                    np.sqrt(metrics.mean_squared_error(y_test, dt_y_pred)))\n",
    "for keys,values in results.items():\n",
    "    print(keys)\n",
    "    print(values)\n",
    "    print('')"
   ]
  },
  {
   "cell_type": "markdown",
   "metadata": {},
   "source": [
    "Now when we saw that the decision tree scored a higher accuracy lets try to apply Random forest as our final model.\n",
    "Random forest combines the predictions made by many decision trees into a single model. Individually, predictions made by decision trees may not be accurate but combined together, the predictions will be closer to the true value on average. Moreover Random Forest is great for reduction in overfitting. By averaging several trees, there is a significantly lower risk of overfitting."
   ]
  },
  {
   "cell_type": "markdown",
   "metadata": {},
   "source": [
    "## Random Forest with GridSearch"
   ]
  },
  {
   "cell_type": "code",
   "execution_count": 202,
   "metadata": {},
   "outputs": [
    {
     "name": "stderr",
     "output_type": "stream",
     "text": [
      "/home/ivana/anaconda3/lib/python3.7/site-packages/sklearn/model_selection/_search.py:841: DeprecationWarning: The default of the `iid` parameter will change from True to False in version 0.22 and will be removed in 0.24. This will change numeric results when test-set sizes are unequal.\n",
      "  DeprecationWarning)\n"
     ]
    },
    {
     "data": {
      "text/plain": [
       "GridSearchCV(cv=10, error_score='raise-deprecating',\n",
       "       estimator=RandomForestRegressor(bootstrap=True, criterion='mse', max_depth=None,\n",
       "           max_features='auto', max_leaf_nodes=None,\n",
       "           min_impurity_decrease=0.0, min_impurity_split=None,\n",
       "           min_samples_leaf=1, min_samples_split=2,\n",
       "           min_weight_fraction_leaf=0.0, n_estimators='warn', n_jobs=None,\n",
       "           oob_score=False, random_state=None, verbose=0, warm_start=False),\n",
       "       fit_params=None, iid='warn', n_jobs=None,\n",
       "       param_grid={'max_depth': range(3, 7), 'n_estimators': (10, 50, 100), 'bootstrap': [True, False]},\n",
       "       pre_dispatch='2*n_jobs', refit=True, return_train_score='warn',\n",
       "       scoring=None, verbose=0)"
      ]
     },
     "execution_count": 202,
     "metadata": {},
     "output_type": "execute_result"
    }
   ],
   "source": [
    "# Run GridSearch to find the optimal parameters\n",
    "forest_reg = RandomForestRegressor()\n",
    "param_grid = {'max_depth': range(3,7),\n",
    "              'n_estimators': (10, 50, 100),\n",
    "              'bootstrap': [True, False]\n",
    "             }\n",
    "grid_clf = GridSearchCV(forest_reg, param_grid, cv=10)\n",
    "grid_clf.fit(X_train, y_train.values.ravel())"
   ]
  },
  {
   "cell_type": "code",
   "execution_count": 203,
   "metadata": {},
   "outputs": [
    {
     "name": "stdout",
     "output_type": "stream",
     "text": [
      "{'bootstrap': True, 'max_depth': 6, 'n_estimators': 50}\n"
     ]
    }
   ],
   "source": [
    "# Display best parameters\n",
    "best_parameters = grid_clf.best_params_\n",
    "print(best_parameters)"
   ]
  },
  {
   "cell_type": "code",
   "execution_count": 204,
   "metadata": {},
   "outputs": [
    {
     "data": {
      "text/plain": [
       "RandomForestRegressor(bootstrap=True, criterion='mse', max_depth=6,\n",
       "           max_features='auto', max_leaf_nodes=None,\n",
       "           min_impurity_decrease=0.0, min_impurity_split=None,\n",
       "           min_samples_leaf=1, min_samples_split=2,\n",
       "           min_weight_fraction_leaf=0.0, n_estimators=50, n_jobs=None,\n",
       "           oob_score=False, random_state=None, verbose=0, warm_start=False)"
      ]
     },
     "execution_count": 204,
     "metadata": {},
     "output_type": "execute_result"
    }
   ],
   "source": [
    "# Fit Random forest with best parameters\n",
    "final_model = RandomForestRegressor(max_depth=best_parameters['max_depth'],\n",
    "                            n_estimators=best_parameters['n_estimators'],\n",
    "                            bootstrap=best_parameters['bootstrap'])\n",
    "final_model.fit(X_train,y_train.values.ravel())"
   ]
  },
  {
   "cell_type": "code",
   "execution_count": 205,
   "metadata": {},
   "outputs": [],
   "source": [
    "# Make prediction\n",
    "fr_y_pred = final_model.predict(X_test)"
   ]
  },
  {
   "cell_type": "code",
   "execution_count": 207,
   "metadata": {},
   "outputs": [
    {
     "name": "stdout",
     "output_type": "stream",
     "text": [
      "Linear regression:\n",
      "Coefficient of determination R^2: 0.70, Mean Absolut Error: 3.24, Mean Squared Error: 22.47, Root Mean Squared Error: 4.74\n",
      "\n",
      "Decision Tree:\n",
      "Coefficient of determination R^2: 0.84, Mean Absolut Error: 2.53, Mean Squared Error: 11.77, Root Mean Squared Error: 3.43\n",
      "\n",
      "Random Forest:\n",
      "Coefficient of determination R^2: 0.87, Mean Absolut Error: 2.18, Mean Squared Error: 9.87, Root Mean Squared Error: 3.14\n",
      "\n"
     ]
    }
   ],
   "source": [
    "# Record and compare results\n",
    "results['Random Forest:'] = 'Coefficient of determination R^2: {:.2f}, Mean Absolut Error: {:.2f}, Mean Squared Error: {:.2f}, Root Mean Squared Error: {:.2f}'.format(final_model.score(X_test,y_test),\n",
    "                                                                                                                                                                    metrics.mean_absolute_error(y_test, fr_y_pred),\n",
    "                                                                                                                                                                    metrics.mean_squared_error(y_test, fr_y_pred),\n",
    "                                                                                                                                                                    np.sqrt(metrics.mean_squared_error(y_test, fr_y_pred)))\n",
    "for keys,values in results.items():\n",
    "    print(keys)\n",
    "    print(values)\n",
    "    print('')"
   ]
  },
  {
   "cell_type": "markdown",
   "metadata": {},
   "source": [
    "Comparing the performance measures the Random Forest has shown to predict Boston house prices with the highest precision compared to  Linear regression and Decision Tree. The real estate agency could apply this model whenever trying to evaluate new house being offered for sale. "
   ]
  }
 ],
 "metadata": {
  "kernelspec": {
   "display_name": "Python 3",
   "language": "python",
   "name": "python3"
  },
  "language_info": {
   "codemirror_mode": {
    "name": "ipython",
    "version": 3
   },
   "file_extension": ".py",
   "mimetype": "text/x-python",
   "name": "python",
   "nbconvert_exporter": "python",
   "pygments_lexer": "ipython3",
   "version": "3.7.4"
  }
 },
 "nbformat": 4,
 "nbformat_minor": 2
}
