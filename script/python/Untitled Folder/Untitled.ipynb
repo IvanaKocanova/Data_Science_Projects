{
 "cells": [
  {
   "cell_type": "code",
   "execution_count": 75,
   "metadata": {},
   "outputs": [],
   "source": [
    "from bs4 import BeautifulSoup\n",
    "import pandas as pd\n",
    "import numpy as np\n",
    "import requests as req\n",
    "import scrapy\n"
   ]
  },
  {
   "cell_type": "code",
   "execution_count": 72,
   "metadata": {},
   "outputs": [
    {
     "name": "stdout",
     "output_type": "stream",
     "text": [
      "<article class=\"job-result sponsored-job\" data-remote-type=\"NotSpecified\" id=\"jobSection44537904\">\n",
      "<p class=\"job-hidden-content is-hidden\">\n",
      "<span>\r\n",
      "                Job hidden.\r\n",
      "            </span>\n",
      "<button aria-label=\"Undo hide job\" class=\"btn btn-link btn-inline btn-unhide pull-right\" data-bind=\"click: searchResults.modifyHiddenJob\" data-gtm=\"unhide_job_icon\" data-gtm-value=\"44537904\" data-jobid=\"44537904\" data-qa=\"unhideJobBtn\" type=\"button\">\r\n",
      "                Undo\r\n",
      "            </button>\n",
      "</p>\n",
      "<a class=\"job-block-link\" href=\"/jobs/data-scientist/44537904?source=searchResults&amp;filter=%2fjobs%2fdata-scientist-jobs-in-london\"></a>\n",
      "<span class=\"job-result-anchor\" id=\"job44537904\"></span>\n",
      "<div class=\"row\">\n",
      "<div class=\"col-sm-12 col-md-9 col-lg-9 details\">\n",
      "<header>\n",
      "<div class=\"badge-container\">\n",
      "<label class=\"label label-promoted\" data-qa=\"promotedLbl\">Promoted</label>\n",
      "</div>\n",
      "<h3 class=\"title\">\n",
      "<a data-gtm=\"sponsored_job_click\" data-gtm-value=\"44537904\" data-id=\"44537904\" href=\"/jobs/data-scientist/44537904?source=searchResults&amp;filter=%2fjobs%2fdata-scientist-jobs-in-london\" title=\"Data Scientist\">Data Scientist</a>\n",
      "</h3>\n",
      "<div class=\"posted-by\">\r\n",
      "                    Posted 2 November by <a class=\"gtmJobListingPostedBy\" href=\"/jobs/blm/p22892\">BLM</a>\n",
      "<span class=\"\">\n",
      "</span>\n",
      "</div>\n",
      "</header>\n",
      "<div class=\"metadata\">\n",
      "<ul class=\"list-unstyled\">\n",
      "<li class=\"salary\">Competitive salary</li>\n",
      "</ul>\n",
      "<ul>\n",
      "<li class=\"location\">\r\n",
      "                        London\r\n",
      "                        <span style=\"display: none;\">London</span>\n",
      "</li>\n",
      "</ul>\n",
      "</div>\n",
      "<div class=\"description\">\n",
      "<p><span class=\"highlight\">Data</span> <span class=\"highlight\">Scientist</span>-12 month Maternity Cover We are looking to attract a <span class=\"highlight\">Data</span> <span class=\"highlight\">Scientist</span> for a 12 month contract for our London based team. Working closely with the Head of Analytics, the <span class=\"highlight\">Data</span> <span class=\"highlight\">Scientist</span> will contribute to the development and continuous improvement...</p>\n",
      "<strong class=\"similar-jobs hidden-sm\">See more: </strong>\n",
      "<a class=\"similar-jobs hidden-sm\" data-gtm=\"internal_job_link\" data-gtm-value=\"Scientist jobs in London\" href=\"/jobs/scientist-jobs-in-london\">Scientist jobs in London</a>\n",
      "</div>\n",
      "</div>\n",
      "<aside class=\"logo-and-save hidden-xs col-sm-12 col-md-3 col-lg-3\">\n",
      "<div class=\"logo hidden-xs\" data-qa=\"recruiterLogoLnk\">\n",
      "<a class=\"gtmJobListingLogo\" data-company=\"BLM\" href=\"/jobs/blm/p22892\" title=\"BLM jobs\">\n",
      "<img alt=\"BLM jobs\" data-src=\"https://resources.reed.co.uk/profileimages/logos/thumbs/Logo_22892.png?v=20211207125203\" height=\"50\" src=\"data:image/gif;base64,R0lGODlhAQABAAAAACH5BAEKAAEALAAAAAABAAEAAAICTAEAOw==\" width=\"120\"/>\n",
      "</a>\n",
      "</div>\n",
      "<div class=\"saved-jobs-button-container col-xs-6 col-sm-12\">\n",
      "<div aria-label=\"Shortlist job\" class=\"btn btn-secondary saved-jobs-button gtmSavedJobsButton\" data-bind=\"click: function(data,e) { searchResults.modifyShortlistStatus(data,e) }, event: { keypress: function(data, e) { if (event.keyCode === 32 || event.keyCode === 13) { searchResults.modifyShortlistStatus(data,e) } } }\" data-draft=\"0\" data-jobid=\"44537904\" data-qa=\"shortlistBtn\" tabindex=\"0\" title=\"Shortlist job\">\n",
      "<span>Shortlist</span>\n",
      "</div>\n",
      "<button aria-label=\"Hide Job\" class=\"btn btn-secondary btn-hide-job\" data-bind=\"click: searchResults.modifyHiddenJob\" data-gtm=\"hide_job_icon\" data-gtm-value=\"44537904\" data-jobid=\"44537904\" data-qa=\"HideJobBtn\" title=\"Hide job\" type=\"button\">\n",
      "<span>Hide</span>\n",
      "</button>\n",
      "</div>\n",
      "<div class=\"read-more-container col-xs-6 col-sm-12\">\n",
      "<a class=\"read-more visible-xs-block btn btn-secondary gtmReadMoreSearchButton\" data-id=\"44537904\" href=\"/jobs/data-scientist/44537904?source=searchResults&amp;filter=%2fjobs%2fdata-scientist-jobs-in-london\" title=\"Data Scientist\">Read more</a>\n",
      "</div>\n",
      "</aside>\n",
      "</div>\n",
      "<div class=\"shortlist-mobile visible-xs-block saved-jobs-button shortlist-mobile-left gtmSavedJobsButton\" data-bind=\"click: function(data,e) { searchResults.modifyShortlistStatus(data,e) }\" data-draft=\"0\" data-jobid=\"44537904\" data-qa=\"shortlistMobileBtn\">\n",
      "<div class=\"shortlist-sponsored\">\n",
      "<i class=\"icon\"></i>\n",
      "</div>\n",
      "</div>\n",
      "<div class=\"hidden-sm hidden-md hidden-lg\">\n",
      "<button aria-label=\"hide job\" class=\"btn btn-secondary btn-inline btn-hide-job\" data-bind=\"click: searchResults.modifyHiddenJob\" data-gtm=\"hide_job_icon\" data-gtm-value=\"44537904\" data-jobid=\"44537904\" data-qa=\"HideJobBtn\" title=\"Hide job\" type=\"button\">\n",
      "<span>Hide</span>\n",
      "</button>\n",
      "</div>\n",
      "</article>\n"
     ]
    }
   ],
   "source": [
    "html_text = req.get('https://www.reed.co.uk/jobs/data-scientist-jobs-in-london').text\n",
    "soup = BeautifulSoup(html_text, 'lxml')\n",
    "jobs_count = soup.find('span', class_ = 'count').text.replace(' ','')\n",
    "listings = soup.find('article', class_ = 'job-result')\n",
    "company = listings.find('a', class_ = 'gtmJobListingPostedBy').text\n",
    "salary = listings.find('li', class_ = \"salary\").text\n",
    "location = listings.find('li', class_ = \"location\").text.replace(' ','')\n",
    "print(listings) \n"
   ]
  }
 ],
 "metadata": {
  "kernelspec": {
   "display_name": "Python 3",
   "language": "python",
   "name": "python3"
  },
  "language_info": {
   "codemirror_mode": {
    "name": "ipython",
    "version": 3
   },
   "file_extension": ".py",
   "mimetype": "text/x-python",
   "name": "python",
   "nbconvert_exporter": "python",
   "pygments_lexer": "ipython3",
   "version": "3.7.4"
  }
 },
 "nbformat": 4,
 "nbformat_minor": 2
}
