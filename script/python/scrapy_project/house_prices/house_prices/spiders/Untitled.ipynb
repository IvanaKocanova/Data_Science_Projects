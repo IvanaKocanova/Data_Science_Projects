{
 "cells": [
  {
   "cell_type": "code",
   "execution_count": 4,
   "metadata": {},
   "outputs": [
    {
     "name": "stderr",
     "output_type": "stream",
     "text": [
      "Exception in thread CrochetReactor:\n",
      "Traceback (most recent call last):\n",
      "  File \"/home/ivana/anaconda3/lib/python3.7/threading.py\", line 926, in _bootstrap_inner\n",
      "    self.run()\n",
      "  File \"/home/ivana/anaconda3/lib/python3.7/threading.py\", line 870, in run\n",
      "    self._target(*self._args, **self._kwargs)\n",
      "  File \"/home/ivana/anaconda3/lib/python3.7/site-packages/crochet/_eventloop.py\", line 372, in <lambda>\n",
      "    target=lambda: self._reactor.run(installSignalHandlers=False),\n",
      "  File \"/home/ivana/anaconda3/lib/python3.7/site-packages/twisted/internet/base.py\", line 1317, in run\n",
      "    self.startRunning(installSignalHandlers=installSignalHandlers)\n",
      "  File \"/home/ivana/anaconda3/lib/python3.7/site-packages/twisted/internet/base.py\", line 1299, in startRunning\n",
      "    ReactorBase.startRunning(cast(ReactorBase, self))\n",
      "  File \"/home/ivana/anaconda3/lib/python3.7/site-packages/twisted/internet/base.py\", line 843, in startRunning\n",
      "    raise error.ReactorNotRestartable()\n",
      "twisted.internet.error.ReactorNotRestartable\n",
      "\n"
     ]
    }
   ],
   "source": [
    "import scrapy\n",
    "from scrapy.crawler import CrawlerProcess\n",
    "\n",
    "\n",
    "class PriceSpider(scrapy.Spider):\n",
    "    \"\"\"Scrape house prices in Bruck and der Leitha\"\"\"\n",
    "    name = 'price'\n",
    "    start_urls = ['https://www.immowelt.at/liste/bezirk-bruck-an-der-leitha/haeuser/kaufen?sort=relevanz']\n",
    "    \n",
    "    custom_settings = {\n",
    "        'FEEDS': {\n",
    "            'houses.csv': {\n",
    "                'format': 'csv',\n",
    "                'overwrite': True\n",
    "            }\n",
    "        }\n",
    "    }\n",
    "    \n",
    "    def parse(self, response):\n",
    "        for houses in response.css('div.hardfacts_4.clear') :\n",
    "            yield {\n",
    "                'price': houses.css('strong::text').get(),  \n",
    "                'rooms': houses.css('div.hardfact.rooms::text').get(),     \n",
    "                'size': houses.css('div.hardfact.square_meters::text').get()  \n",
    "            }\n",
    "        \n",
    "        next_page = response.css('a.btn_01.white').attrib['href'] \n",
    "        if next_page is not None:\n",
    "            yield response.follow(next_page, callback = self.parse)\n",
    "        \n"
   ]
  },
  {
   "cell_type": "code",
   "execution_count": 5,
   "metadata": {},
   "outputs": [
    {
     "ename": "RuntimeError",
     "evalue": "EventualResult.wait() must not be run in the reactor thread.",
     "output_type": "error",
     "traceback": [
      "\u001b[0;31m---------------------------------------------------------------------------\u001b[0m",
      "\u001b[0;31mRuntimeError\u001b[0m                              Traceback (most recent call last)",
      "\u001b[0;32m<ipython-input-5-86fbd466824f>\u001b[0m in \u001b[0;36m<module>\u001b[0;34m\u001b[0m\n\u001b[0;32m----> 1\u001b[0;31m \u001b[0mrun_spider\u001b[0m\u001b[0;34m(\u001b[0m\u001b[0;34m)\u001b[0m\u001b[0;34m\u001b[0m\u001b[0;34m\u001b[0m\u001b[0m\n\u001b[0m",
      "\u001b[0;32m~/anaconda3/lib/python3.7/site-packages/crochet/_eventloop.py\u001b[0m in \u001b[0;36mwrapper\u001b[0;34m(function, _, args, kwargs)\u001b[0m\n\u001b[1;32m    459\u001b[0m                 \u001b[0meventual_result\u001b[0m \u001b[0;34m=\u001b[0m \u001b[0mrun\u001b[0m\u001b[0;34m(\u001b[0m\u001b[0;34m)\u001b[0m\u001b[0;34m\u001b[0m\u001b[0;34m\u001b[0m\u001b[0m\n\u001b[1;32m    460\u001b[0m                 \u001b[0;32mtry\u001b[0m\u001b[0;34m:\u001b[0m\u001b[0;34m\u001b[0m\u001b[0;34m\u001b[0m\u001b[0m\n\u001b[0;32m--> 461\u001b[0;31m                     \u001b[0;32mreturn\u001b[0m \u001b[0meventual_result\u001b[0m\u001b[0;34m.\u001b[0m\u001b[0mwait\u001b[0m\u001b[0;34m(\u001b[0m\u001b[0mtimeout\u001b[0m\u001b[0;34m)\u001b[0m\u001b[0;34m\u001b[0m\u001b[0;34m\u001b[0m\u001b[0m\n\u001b[0m\u001b[1;32m    462\u001b[0m                 \u001b[0;32mexcept\u001b[0m \u001b[0mTimeoutError\u001b[0m\u001b[0;34m:\u001b[0m\u001b[0;34m\u001b[0m\u001b[0;34m\u001b[0m\u001b[0m\n\u001b[1;32m    463\u001b[0m                     \u001b[0meventual_result\u001b[0m\u001b[0;34m.\u001b[0m\u001b[0mcancel\u001b[0m\u001b[0;34m(\u001b[0m\u001b[0;34m)\u001b[0m\u001b[0;34m\u001b[0m\u001b[0;34m\u001b[0m\u001b[0m\n",
      "\u001b[0;32m~/anaconda3/lib/python3.7/site-packages/crochet/_eventloop.py\u001b[0m in \u001b[0;36mwait\u001b[0;34m(self, timeout)\u001b[0m\n\u001b[1;32m    192\u001b[0m         \u001b[0;32mif\u001b[0m \u001b[0mthreadable\u001b[0m\u001b[0;34m.\u001b[0m\u001b[0misInIOThread\u001b[0m\u001b[0;34m(\u001b[0m\u001b[0;34m)\u001b[0m\u001b[0;34m:\u001b[0m\u001b[0;34m\u001b[0m\u001b[0;34m\u001b[0m\u001b[0m\n\u001b[1;32m    193\u001b[0m             raise RuntimeError(\n\u001b[0;32m--> 194\u001b[0;31m                 \"EventualResult.wait() must not be run in the reactor thread.\")\n\u001b[0m\u001b[1;32m    195\u001b[0m \u001b[0;34m\u001b[0m\u001b[0m\n\u001b[1;32m    196\u001b[0m         \u001b[0mresult\u001b[0m \u001b[0;34m=\u001b[0m \u001b[0mself\u001b[0m\u001b[0;34m.\u001b[0m\u001b[0m_result\u001b[0m\u001b[0;34m(\u001b[0m\u001b[0mtimeout\u001b[0m\u001b[0;34m)\u001b[0m\u001b[0;34m\u001b[0m\u001b[0;34m\u001b[0m\u001b[0m\n",
      "\u001b[0;31mRuntimeError\u001b[0m: EventualResult.wait() must not be run in the reactor thread."
     ]
    }
   ],
   "source": []
  }
 ],
 "metadata": {
  "kernelspec": {
   "display_name": "Python 3",
   "language": "python",
   "name": "python3"
  },
  "language_info": {
   "codemirror_mode": {
    "name": "ipython",
    "version": 3
   },
   "file_extension": ".py",
   "mimetype": "text/x-python",
   "name": "python",
   "nbconvert_exporter": "python",
   "pygments_lexer": "ipython3",
   "version": "3.7.4"
  }
 },
 "nbformat": 4,
 "nbformat_minor": 2
}
