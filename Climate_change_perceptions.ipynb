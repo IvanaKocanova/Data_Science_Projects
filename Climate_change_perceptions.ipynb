{
 "cells": [
  {
   "cell_type": "markdown",
   "metadata": {},
   "source": [
    "# How climate change perceptions vary around the world?"
   ]
  },
  {
   "cell_type": "code",
   "execution_count": 47,
   "metadata": {},
   "outputs": [
    {
     "name": "stderr",
     "output_type": "stream",
     "text": [
      "[nltk_data] Downloading package stopwords to /home/ivana/nltk_data...\n",
      "[nltk_data]   Unzipping corpora/stopwords.zip.\n"
     ]
    }
   ],
   "source": [
    "# Import libraries\n",
    "import config\n",
    "import pandas as pd\n",
    "import numpy as np\n",
    "import itertools\n",
    "import collections\n",
    "\n",
    "import tweepy\n",
    "from textblob import TextBlob\n",
    "from textblob import Word\n",
    "import re\n",
    "import nltk\n",
    "from nltk.corpus import stopwords\n",
    "nltk.download('stopwords')\n",
    "\n",
    "import networkx\n",
    "import seaborn as sns\n",
    "import matplotlib.pyplot as plt\n",
    "%matplotlib inline\n",
    "\n",
    "sns.set(font_scale=1.5)\n",
    "sns.set_style(\"whitegrid\")"
   ]
  },
  {
   "cell_type": "code",
   "execution_count": 2,
   "metadata": {},
   "outputs": [],
   "source": [
    "# Interacting with twitter's API\n",
    "auth = tweepy.OAuthHandler(config.consumer_key, config.consumer_secret) \n",
    "auth.set_access_token(config.access_token, config.access_token_secret)\n",
    "api = tweepy.API (auth, wait_on_rate_limit = True) "
   ]
  },
  {
   "cell_type": "code",
   "execution_count": 3,
   "metadata": {},
   "outputs": [],
   "source": [
    "# Clean the tweets\n",
    "def clean_tweet(tweet):\n",
    "    \"\"\" Utility function to clean a tweet by removing \n",
    "    links and special characters using regex.\n",
    "\n",
    "    Parameters\n",
    "    ----------\n",
    "    tweet : string\n",
    "        A text string that you want to parse and remove special characters.\n",
    "\n",
    "    Returns\n",
    "    -------\n",
    "    The same tweet string without special characters removed.\n",
    "    \"\"\"\n",
    "    \n",
    "    return ' '.join(re.sub(\"(@[A-Za-z0-9]+)|([^0-9A-Za-z \\t])|(\\w+:\\/\\/\\S+)\", \" \", tweet).split())   "
   ]
  },
  {
   "cell_type": "code",
   "execution_count": 35,
   "metadata": {},
   "outputs": [],
   "source": [
    "# List of tweets related to climate change\n",
    "search_words = (\"#ClimateChange\", \"Environment\", \"climate\", \"climatechange\", \"environmet\")\n",
    "\n",
    "\n",
    "def get_tweets_df(search_words):\n",
    "    \"\"\"Extracts tweets, finds sentiment score and returns tweets as a DataFrame \n",
    "\n",
    "    Parameters\n",
    "    ----------\n",
    "    search_words : list \n",
    "        A list of phrases to extract\n",
    "    \n",
    "    Returns\n",
    "    -------\n",
    "    Pandas DataFrame of tweets\n",
    "    \"\"\"\n",
    "    res = []\n",
    "    # Extract tweets for a given list of phrases\n",
    "    for word in search_words:\n",
    "        for tweet in tweepy.Cursor (api.search, \n",
    "                                    q = word + \" -filter:retweets\", \n",
    "                                    lang = \"en\").items(30):\n",
    "            res.append(tweet)\n",
    "   \n",
    "    id_list = [tweet.id for tweet  in res]\n",
    "    \n",
    "    # Create tweets DataFrame\n",
    "    data_set = pd.DataFrame(id_list, columns = [\"id\"])\n",
    "    data_set[\"text\"] = [tweet.text for tweet in res]\n",
    "    data_set[\"len\"]  = np.array([len(tweet.text) for tweet in res])\n",
    "    data_set[\"created_at\"] = [tweet.created_at for tweet in res]\n",
    "    data_set[\"user_location\"] = [tweet.author.location for tweet in res]\n",
    "    data_set[\"Hashtags\"] = [tweet.entities.get('hashtags') for tweet in res]\n",
    "    \n",
    "    # Use clean function to remove special characters\n",
    "    data_set[\"text\"] = np.array([ clean_tweet(tweet) for tweet in data_set['text'] ])\n",
    "    \n",
    "    # Add Sentiment score and class\n",
    "    text = data_set[\"text\"]\n",
    "    for i in range(0,len(text)):\n",
    "        textB = TextBlob(text[i])\n",
    "        sentiment = textB.sentiment.polarity\n",
    "\n",
    "        data_set.at[i, 'sentiment'] = sentiment\n",
    "        if sentiment <0.00:\n",
    "            SentimentClass = 'Negative'\n",
    "            data_set.at[i, 'sentiment_class'] = SentimentClass \n",
    "        elif sentiment >0.00:\n",
    "            SentimentClass = 'Positive'\n",
    "            data_set.at[i, 'sentiment_class']= SentimentClass \n",
    "        else:\n",
    "            SentimentClass = 'Neutral'\n",
    "            data_set.at[i, 'sentiment_class']= SentimentClass\n",
    "    \n",
    "    return data_set\n",
    "    "
   ]
  },
  {
   "cell_type": "code",
   "execution_count": 27,
   "metadata": {},
   "outputs": [
    {
     "data": {
      "text/html": [
       "<div>\n",
       "<style scoped>\n",
       "    .dataframe tbody tr th:only-of-type {\n",
       "        vertical-align: middle;\n",
       "    }\n",
       "\n",
       "    .dataframe tbody tr th {\n",
       "        vertical-align: top;\n",
       "    }\n",
       "\n",
       "    .dataframe thead th {\n",
       "        text-align: right;\n",
       "    }\n",
       "</style>\n",
       "<table border=\"1\" class=\"dataframe\">\n",
       "  <thead>\n",
       "    <tr style=\"text-align: right;\">\n",
       "      <th></th>\n",
       "      <th>id</th>\n",
       "      <th>text</th>\n",
       "      <th>len</th>\n",
       "      <th>created_at</th>\n",
       "      <th>user_location</th>\n",
       "      <th>Hashtags</th>\n",
       "      <th>sentiment</th>\n",
       "      <th>sentiment_class</th>\n",
       "    </tr>\n",
       "  </thead>\n",
       "  <tbody>\n",
       "    <tr>\n",
       "      <td>0</td>\n",
       "      <td>1176795663121747969</td>\n",
       "      <td>We are currently live at the Climate Change and Occupational Health and Safety happening at Best Western Plus Atlan</td>\n",
       "      <td>140</td>\n",
       "      <td>2019-09-25 09:48:44</td>\n",
       "      <td>Ghana</td>\n",
       "      <td>[]</td>\n",
       "      <td>0.378788</td>\n",
       "      <td>Positive</td>\n",
       "    </tr>\n",
       "    <tr>\n",
       "      <td>1</td>\n",
       "      <td>1176795613880619015</td>\n",
       "      <td>You are a man of your words Mr hyginus Your games are always Guaranteed I ll do more business with you</td>\n",
       "      <td>140</td>\n",
       "      <td>2019-09-25 09:48:32</td>\n",
       "      <td></td>\n",
       "      <td>[]</td>\n",
       "      <td>0.500000</td>\n",
       "      <td>Positive</td>\n",
       "    </tr>\n",
       "    <tr>\n",
       "      <td>2</td>\n",
       "      <td>1176795605504380928</td>\n",
       "      <td>Hell to the Yeah ClimateChange ActOnClimate ClimateEmergency</td>\n",
       "      <td>88</td>\n",
       "      <td>2019-09-25 09:48:30</td>\n",
       "      <td>BRISBANE, AUSTRALIA</td>\n",
       "      <td>[{'text': 'ClimateChange', 'indices': [18, 32]}, {'text': 'ActOnClimate', 'indices': [33, 46]}, {'text': 'ClimateEmergency', 'indices': [47, 64]}]</td>\n",
       "      <td>0.000000</td>\n",
       "      <td>Neutral</td>\n",
       "    </tr>\n",
       "    <tr>\n",
       "      <td>3</td>\n",
       "      <td>1176795571186630656</td>\n",
       "      <td>every possible source of energy has its own Problems n Limitations n Energy is the very basis of Human Sustenan</td>\n",
       "      <td>140</td>\n",
       "      <td>2019-09-25 09:48:22</td>\n",
       "      <td></td>\n",
       "      <td>[]</td>\n",
       "      <td>0.200000</td>\n",
       "      <td>Positive</td>\n",
       "    </tr>\n",
       "    <tr>\n",
       "      <td>4</td>\n",
       "      <td>1176795562802237440</td>\n",
       "      <td>When videos of ClimateActivist are being shared by people who cannot live without air condition you can see the</td>\n",
       "      <td>139</td>\n",
       "      <td>2019-09-25 09:48:20</td>\n",
       "      <td>Mumbai, India</td>\n",
       "      <td>[{'text': 'ClimateActivist', 'indices': [15, 31]}]</td>\n",
       "      <td>0.136364</td>\n",
       "      <td>Positive</td>\n",
       "    </tr>\n",
       "  </tbody>\n",
       "</table>\n",
       "</div>"
      ],
      "text/plain": [
       "                    id  \\\n",
       "0  1176795663121747969   \n",
       "1  1176795613880619015   \n",
       "2  1176795605504380928   \n",
       "3  1176795571186630656   \n",
       "4  1176795562802237440   \n",
       "\n",
       "                                                                                                                  text  \\\n",
       "0  We are currently live at the Climate Change and Occupational Health and Safety happening at Best Western Plus Atlan   \n",
       "1  You are a man of your words Mr hyginus Your games are always Guaranteed I ll do more business with you                \n",
       "2  Hell to the Yeah ClimateChange ActOnClimate ClimateEmergency                                                          \n",
       "3  every possible source of energy has its own Problems n Limitations n Energy is the very basis of Human Sustenan       \n",
       "4  When videos of ClimateActivist are being shared by people who cannot live without air condition you can see the       \n",
       "\n",
       "   len          created_at        user_location  \\\n",
       "0  140 2019-09-25 09:48:44  Ghana                 \n",
       "1  140 2019-09-25 09:48:32                        \n",
       "2  88  2019-09-25 09:48:30  BRISBANE, AUSTRALIA   \n",
       "3  140 2019-09-25 09:48:22                        \n",
       "4  139 2019-09-25 09:48:20  Mumbai, India         \n",
       "\n",
       "                                                                                                                                             Hashtags  \\\n",
       "0  []                                                                                                                                                   \n",
       "1  []                                                                                                                                                   \n",
       "2  [{'text': 'ClimateChange', 'indices': [18, 32]}, {'text': 'ActOnClimate', 'indices': [33, 46]}, {'text': 'ClimateEmergency', 'indices': [47, 64]}]   \n",
       "3  []                                                                                                                                                   \n",
       "4  [{'text': 'ClimateActivist', 'indices': [15, 31]}]                                                                                                   \n",
       "\n",
       "   sentiment sentiment_class  \n",
       "0  0.378788   Positive        \n",
       "1  0.500000   Positive        \n",
       "2  0.000000   Neutral         \n",
       "3  0.200000   Positive        \n",
       "4  0.136364   Positive        "
      ]
     },
     "execution_count": 27,
     "metadata": {},
     "output_type": "execute_result"
    }
   ],
   "source": [
    "# Create tweets DataFrame\n",
    "tweets_df = get_tweets_df(search_words)\n",
    "tweets_df.head()"
   ]
  },
  {
   "cell_type": "markdown",
   "metadata": {},
   "source": [
    "### Text clean up\n",
    "To preprocess the tweets we will need to replace capital letters with lower case, remove stopwords and transform words to their base form.\n"
   ]
  },
  {
   "cell_type": "code",
   "execution_count": 46,
   "metadata": {},
   "outputs": [
    {
     "data": {
      "text/plain": [
       "[['we',\n",
       "  'are',\n",
       "  'currently',\n",
       "  'live',\n",
       "  'at',\n",
       "  'the',\n",
       "  'climate',\n",
       "  'change',\n",
       "  'and',\n",
       "  'occupational',\n",
       "  'health',\n",
       "  'and',\n",
       "  'safety',\n",
       "  'happening',\n",
       "  'at',\n",
       "  'best',\n",
       "  'western',\n",
       "  'plus',\n",
       "  'atlan'],\n",
       " ['you',\n",
       "  'are',\n",
       "  'a',\n",
       "  'man',\n",
       "  'of',\n",
       "  'your',\n",
       "  'words',\n",
       "  'mr',\n",
       "  'hyginus',\n",
       "  'your',\n",
       "  'games',\n",
       "  'are',\n",
       "  'always',\n",
       "  'guaranteed',\n",
       "  'i',\n",
       "  'll',\n",
       "  'do',\n",
       "  'more',\n",
       "  'business',\n",
       "  'with',\n",
       "  'you']]"
      ]
     },
     "execution_count": 46,
     "metadata": {},
     "output_type": "execute_result"
    }
   ],
   "source": [
    "# Create a list of lists containing lowercase words for each tweet\n",
    "lower_tweets = [tweet.lower().split() for tweet in tweets_df.text] \n",
    "lower_tweets[:2]"
   ]
  },
  {
   "cell_type": "code",
   "execution_count": 53,
   "metadata": {},
   "outputs": [
    {
     "data": {
      "text/plain": [
       "[['currently',\n",
       "  'live',\n",
       "  'climate',\n",
       "  'change',\n",
       "  'occupational',\n",
       "  'health',\n",
       "  'safety',\n",
       "  'happening',\n",
       "  'best',\n",
       "  'western',\n",
       "  'plus',\n",
       "  'atlan'],\n",
       " ['man',\n",
       "  'words',\n",
       "  'mr',\n",
       "  'hyginus',\n",
       "  'games',\n",
       "  'always',\n",
       "  'guaranteed',\n",
       "  'business']]"
      ]
     },
     "execution_count": 53,
     "metadata": {},
     "output_type": "execute_result"
    }
   ],
   "source": [
    "# Remove stopwords\n",
    "stop_words = set(stopwords.words('english'))\n",
    "tweets_nsw = [[word for word in tweet_words if not word in stop_words]\n",
    "              for tweet_words in lower_tweets]\n",
    "tweets_nsw[:2]"
   ]
  },
  {
   "cell_type": "code",
   "execution_count": 57,
   "metadata": {},
   "outputs": [
    {
     "data": {
      "image/png": "[encoded data removed]",
      "text/plain": [
       "<Figure size 576x576 with 1 Axes>"
      ]
     },
     "metadata": {},
     "output_type": "display_data"
    }
   ],
   "source": [
    "# Find most frequent words\n",
    "all_words_nsw = list(itertools.chain(*tweets_nsw))\n",
    "words_count = collections.Counter(all_words_nsw)\n",
    "clean_tweets_nsw = pd.DataFrame(words_count.most_common(20), columns=['words', 'count'])\n",
    "\n",
    "# Plot horizontal bar graph\n",
    "fig, ax = plt.subplots(figsize=(8, 8))\n",
    "clean_tweets_nsw.sort_values(by='count').plot.barh(x='words',\n",
    "                                                  y='count',\n",
    "                                                  ax=ax,\n",
    "                                                  color='purple')\n",
    "ax.set_title(\"Most common words found in tweets\")\n",
    "plt.show()"
   ]
  },
  {
   "cell_type": "code",
   "execution_count": 54,
   "metadata": {},
   "outputs": [
    {
     "data": {
      "text/plain": [
       "<matplotlib.axes._subplots.AxesSubplot at 0x7f4af7ec1ed0>"
      ]
     },
     "execution_count": 54,
     "metadata": {},
     "output_type": "execute_result"
    },
    {
     "data": {
      "image/png": "[encoded data removed]",
      "text/plain": [
       "<Figure size 576x432 with 1 Axes>"
      ]
     },
     "metadata": {},
     "output_type": "display_data"
    }
   ],
   "source": [
    "# Plot horizontal bar graph to see where majority of tweets are from\n",
    "tweets_by_country = tweets_df['user_location'].value_counts()\n",
    "\n",
    "fig, ax = plt.subplots(figsize=(8,6))\n",
    "ax.tick_params(axis='x', labelsize=15)\n",
    "ax.tick_params(axis='y', labelsize=10)\n",
    "ax.set_xlabel('Countries', fontsize=15)\n",
    "ax.set_ylabel('Number of tweets' , fontsize=15)\n",
    "ax.set_title('Top user locations',fontsize=15, fontweight='bold')\n",
    "tweets_by_country[1:8].plot(ax=ax, kind='bar', color='purple')"
   ]
  },
  {
   "cell_type": "code",
   "execution_count": null,
   "metadata": {},
   "outputs": [],
   "source": []
  },
  {
   "cell_type": "code",
   "execution_count": null,
   "metadata": {},
   "outputs": [],
   "source": []
  }
 ],
 "metadata": {
  "kernelspec": {
   "display_name": "Python 3",
   "language": "python",
   "name": "python3"
  },
  "language_info": {
   "codemirror_mode": {
    "name": "ipython",
    "version": 3
   },
   "file_extension": ".py",
   "mimetype": "text/x-python",
   "name": "python",
   "nbconvert_exporter": "python",
   "pygments_lexer": "ipython3",
   "version": "3.7.4"
  }
 },
 "nbformat": 4,
 "nbformat_minor": 2
}
